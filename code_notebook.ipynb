{
 "cells": [
  {
   "cell_type": "markdown",
   "metadata": {},
   "source": [
    "<h1>Rolling Regression and Forecasts.</h1>\n",
    "<p>\n",
    "    <a href=\"https://www.statsmodels.org/stable/examples/notebooks/generated/rolling_ls.html\">Statsmodel Documentation</a><br />\n",
    "    <a href=\"https://plotly.com/python/\">Plotly Documentation</a><br />\n",
    "    <a href=\"https://pandas.pydata.org/docs/user_guide/index.html#user-guide\">Pandas Documentation</a>\n",
    "</p>"
   ]
  },
  {
   "cell_type": "code",
   "execution_count": 1,
   "metadata": {},
   "outputs": [
    {
     "data": {
      "text/html": [
       "        <script type=\"text/javascript\">\n",
       "        window.PlotlyConfig = {MathJaxConfig: 'local'};\n",
       "        if (window.MathJax) {MathJax.Hub.Config({SVG: {font: \"STIX-Web\"}});}\n",
       "        if (typeof require !== 'undefined') {\n",
       "        require.undef(\"plotly\");\n",
       "        requirejs.config({\n",
       "            paths: {\n",
       "                'plotly': ['https://cdn.plot.ly/plotly-latest.min']\n",
       "            }\n",
       "        });\n",
       "        require(['plotly'], function(Plotly) {\n",
       "            window._Plotly = Plotly;\n",
       "        });\n",
       "        }\n",
       "        </script>\n",
       "        "
      ]
     },
     "metadata": {},
     "output_type": "display_data"
    },
    {
     "data": {
      "text/html": [
       "        <script type=\"text/javascript\">\n",
       "        window.PlotlyConfig = {MathJaxConfig: 'local'};\n",
       "        if (window.MathJax) {MathJax.Hub.Config({SVG: {font: \"STIX-Web\"}});}\n",
       "        if (typeof require !== 'undefined') {\n",
       "        require.undef(\"plotly\");\n",
       "        requirejs.config({\n",
       "            paths: {\n",
       "                'plotly': ['https://cdn.plot.ly/plotly-latest.min']\n",
       "            }\n",
       "        });\n",
       "        require(['plotly'], function(Plotly) {\n",
       "            window._Plotly = Plotly;\n",
       "        });\n",
       "        }\n",
       "        </script>\n",
       "        "
      ]
     },
     "metadata": {},
     "output_type": "display_data"
    }
   ],
   "source": [
    "import numpy as np\n",
    "import pandas as pd\n",
    "\n",
    "# statsmodel libraries\n",
    "import statsmodels.api as sm\n",
    "from statsmodels.regression.rolling import RollingOLS\n",
    "from statsmodels.tsa.seasonal import seasonal_decompose\n",
    "\n",
    "import matplotlib.pyplot as plt\n",
    "import seaborn\n",
    "seaborn.set_style('darkgrid')\n",
    "pd.plotting.register_matplotlib_converters()\n",
    "%matplotlib inline\n",
    "\n",
    "import cufflinks as cf\n",
    "from plotly.offline import download_plotlyjs, init_notebook_mode, plot, iplot\n",
    "import plotly.express as px\n",
    "\n",
    "# For Notebooks\n",
    "init_notebook_mode(connected=True)\n",
    "\n",
    "# For offline use\n",
    "cf.go_offline()"
   ]
  },
  {
   "cell_type": "markdown",
   "metadata": {},
   "source": [
    "<h2>Getting the Data Ready</h2>"
   ]
  },
  {
   "cell_type": "markdown",
   "metadata": {},
   "source": [
    "<h3> Macroeconomic Data </h3>"
   ]
  },
  {
   "cell_type": "code",
   "execution_count": 2,
   "metadata": {},
   "outputs": [],
   "source": [
    "# exchange rate data\n",
    "er = pd.read_csv('./data/er.csv', index_col='DATE', parse_dates=True)\n",
    "er = er.iloc[:197]\n",
    "\n",
    "# cpi (prices) data\n",
    "cpi = pd.read_csv('./data/cpi.csv', index_col=1, parse_dates=True)\n",
    "cpi_can = cpi[cpi['LOCATION'] == 'CAN']\n",
    "cpi_usa = cpi[cpi['LOCATION'] == 'USA']"
   ]
  },
  {
   "cell_type": "markdown",
   "metadata": {},
   "source": [
    "<h3> Google Trends Data </h3>"
   ]
  },
  {
   "cell_type": "code",
   "execution_count": 3,
   "metadata": {},
   "outputs": [],
   "source": [
    "# for the search term \"prices\"\n",
    "prices_usa = pd.read_csv('./data/prices-us.csv', index_col=0, parse_dates=True).iloc[:197]\n",
    "prices_can = pd.read_csv('./data/prices_can.csv', index_col=0, parse_dates=True).iloc[:197]"
   ]
  },
  {
   "cell_type": "markdown",
   "metadata": {},
   "source": [
    "<h3> Compiling the data together </h3>"
   ]
  },
  {
   "cell_type": "code",
   "execution_count": 4,
   "metadata": {},
   "outputs": [
    {
     "data": {
      "text/html": [
       "<div>\n",
       "<style scoped>\n",
       "    .dataframe tbody tr th:only-of-type {\n",
       "        vertical-align: middle;\n",
       "    }\n",
       "\n",
       "    .dataframe tbody tr th {\n",
       "        vertical-align: top;\n",
       "    }\n",
       "\n",
       "    .dataframe thead th {\n",
       "        text-align: right;\n",
       "    }\n",
       "</style>\n",
       "<table border=\"1\" class=\"dataframe\">\n",
       "  <thead>\n",
       "    <tr style=\"text-align: right;\">\n",
       "      <th></th>\n",
       "      <th>actual_exr</th>\n",
       "      <th>can/usa_cpi</th>\n",
       "      <th>can/usa_priceTerm</th>\n",
       "    </tr>\n",
       "  </thead>\n",
       "  <tbody>\n",
       "    <tr>\n",
       "      <th>count</th>\n",
       "      <td>197.000000</td>\n",
       "      <td>197.000000</td>\n",
       "      <td>197.000000</td>\n",
       "    </tr>\n",
       "    <tr>\n",
       "      <th>mean</th>\n",
       "      <td>1.168193</td>\n",
       "      <td>1.001758</td>\n",
       "      <td>0.764415</td>\n",
       "    </tr>\n",
       "    <tr>\n",
       "      <th>std</th>\n",
       "      <td>0.132377</td>\n",
       "      <td>0.013413</td>\n",
       "      <td>0.092204</td>\n",
       "    </tr>\n",
       "    <tr>\n",
       "      <th>min</th>\n",
       "      <td>0.955315</td>\n",
       "      <td>0.985504</td>\n",
       "      <td>0.569231</td>\n",
       "    </tr>\n",
       "    <tr>\n",
       "      <th>25%</th>\n",
       "      <td>1.037623</td>\n",
       "      <td>0.993093</td>\n",
       "      <td>0.690909</td>\n",
       "    </tr>\n",
       "    <tr>\n",
       "      <th>50%</th>\n",
       "      <td>1.161481</td>\n",
       "      <td>0.997811</td>\n",
       "      <td>0.759259</td>\n",
       "    </tr>\n",
       "    <tr>\n",
       "      <th>75%</th>\n",
       "      <td>1.300441</td>\n",
       "      <td>1.005090</td>\n",
       "      <td>0.826923</td>\n",
       "    </tr>\n",
       "    <tr>\n",
       "      <th>max</th>\n",
       "      <td>1.420811</td>\n",
       "      <td>1.044527</td>\n",
       "      <td>1.093750</td>\n",
       "    </tr>\n",
       "  </tbody>\n",
       "</table>\n",
       "</div>"
      ],
      "text/plain": [
       "       actual_exr  can/usa_cpi  can/usa_priceTerm\n",
       "count  197.000000   197.000000         197.000000\n",
       "mean     1.168193     1.001758           0.764415\n",
       "std      0.132377     0.013413           0.092204\n",
       "min      0.955315     0.985504           0.569231\n",
       "25%      1.037623     0.993093           0.690909\n",
       "50%      1.161481     0.997811           0.759259\n",
       "75%      1.300441     1.005090           0.826923\n",
       "max      1.420811     1.044527           1.093750"
      ]
     },
     "execution_count": 4,
     "metadata": {},
     "output_type": "execute_result"
    }
   ],
   "source": [
    "df = pd.DataFrame()\n",
    "df['actual_exr'] = er.values.ravel()\n",
    "df['can/usa_cpi'] = (cpi_can['Value'].values)/cpi_usa['Value'].values\n",
    "df['can/usa_priceTerm'] = (prices_can.values)/prices_usa.values\n",
    "df.index = cpi_can.index\n",
    "df.describe()"
   ]
  },
  {
   "cell_type": "markdown",
   "metadata": {},
   "source": [
    "<h2> Decomposing into trend and seasonality </h2>"
   ]
  },
  {
   "cell_type": "code",
   "execution_count": 5,
   "metadata": {},
   "outputs": [
    {
     "data": {
      "image/png": "[encoded data removed]",
      "text/plain": [
       "<Figure size 432x288 with 4 Axes>"
      ]
     },
     "metadata": {
      "needs_background": "light"
     },
     "output_type": "display_data"
    }
   ],
   "source": [
    "# for google trends indicator\n",
    "result = seasonal_decompose(df['can/usa_priceTerm'], model='additive')\n",
    "result.plot()\n",
    "plt.show()"
   ]
  },
  {
   "cell_type": "code",
   "execution_count": 6,
   "metadata": {},
   "outputs": [
    {
     "data": {
      "image/png": "[encoded data removed]",
      "text/plain": [
       "<Figure size 432x288 with 4 Axes>"
      ]
     },
     "metadata": {
      "needs_background": "light"
     },
     "output_type": "display_data"
    }
   ],
   "source": [
    "# for macroeconomic fundamental\n",
    "result = seasonal_decompose(df['can/usa_cpi'], model='additive')\n",
    "result.plot()\n",
    "plt.show()"
   ]
  },
  {
   "cell_type": "code",
   "execution_count": 7,
   "metadata": {},
   "outputs": [
    {
     "data": {
      "image/png": "[encoded data removed]",
      "text/plain": [
       "<Figure size 432x288 with 4 Axes>"
      ]
     },
     "metadata": {
      "needs_background": "light"
     },
     "output_type": "display_data"
    }
   ],
   "source": [
    "# for our dependent variable\n",
    "result = seasonal_decompose(df['actual_exr'], model='additive')\n",
    "result.plot()\n",
    "plt.show()"
   ]
  },
  {
   "cell_type": "markdown",
   "metadata": {},
   "source": [
    "<h2> The Analysis </h2>"
   ]
  },
  {
   "cell_type": "code",
   "execution_count": 8,
   "metadata": {},
   "outputs": [],
   "source": [
    "window = 12 # window length to consider for training the model"
   ]
  },
  {
   "cell_type": "markdown",
   "metadata": {},
   "source": [
    "<h3> Rolling Window Regression using official macroeconomic data </h3>"
   ]
  },
  {
   "cell_type": "code",
   "execution_count": 9,
   "metadata": {},
   "outputs": [],
   "source": [
    "y_predicted = list()\n",
    "for i in range(len(df)-window-1):\n",
    "    y = df.iloc[i:i+window]['actual_exr']\n",
    "    X = sm.add_constant(df.iloc[i:i+window]['can/usa_cpi'])\n",
    "    model = sm.OLS(y,X)\n",
    "    results = model.fit()\n",
    "    y_predicted.append(np.array([1,df.iloc[i+window+1]['can/usa_cpi']]).dot(np.array(results.params)))"
   ]
  },
  {
   "cell_type": "markdown",
   "metadata": {},
   "source": [
    "<h3> Rolling Window Regression using google trends data as proxy</h3>"
   ]
  },
  {
   "cell_type": "code",
   "execution_count": 10,
   "metadata": {},
   "outputs": [],
   "source": [
    "y_predicted_gt = list()\n",
    "for i in range(len(df)-window-1):\n",
    "    y = df.iloc[i:i+window]['actual_exr']\n",
    "    X = sm.add_constant(df.iloc[i:i+window]['can/usa_priceTerm'])\n",
    "    model = sm.OLS(y,X)\n",
    "    results = model.fit()\n",
    "    y_predicted_gt.append(np.array([1,df.iloc[i+window+1]['can/usa_priceTerm']]).dot(np.array(results.params)))"
   ]
  },
  {
   "cell_type": "markdown",
   "metadata": {},
   "source": [
    "<h2> Predictions </h2>"
   ]
  },
  {
   "cell_type": "code",
   "execution_count": 11,
   "metadata": {},
   "outputs": [
    {
     "name": "stderr",
     "output_type": "stream",
     "text": [
      "<ipython-input-11-b1cf76502724>:1: FutureWarning:\n",
      "\n",
      "Slicing a positional slice with .loc is not supported, and will raise TypeError in a future version.  Use .loc with labels or .iloc with positions instead.\n",
      "\n",
      "<ipython-input-11-b1cf76502724>:2: FutureWarning:\n",
      "\n",
      "Slicing a positional slice with .loc is not supported, and will raise TypeError in a future version.  Use .loc with labels or .iloc with positions instead.\n",
      "\n"
     ]
    }
   ],
   "source": [
    "df.loc[window+1:,'macro_prediction'] = y_predicted\n",
    "df.loc[window+1:,'google_trends_prediction'] = y_predicted_gt"
   ]
  },
  {
   "cell_type": "code",
   "execution_count": 12,
   "metadata": {
    "scrolled": false
   },
   "outputs": [
    {
     "data": {
      "application/vnd.plotly.v1+json": {
       "config": {
        "linkText": "Export to plot.ly",
        "plotlyServerURL": "https://plot.ly",
        "showLink": true
       },
       "data": [
        {
         "line": {
          "color": "rgba(255, 153, 51, 1.0)",
          "dash": "solid",
          "shape": "linear",
          "width": 1.3
         },
         "mode": "lines",
         "name": "actual_exr",
         "text": "",
         "type": "scatter",
         "x": [
          "2004-01-01",
          "2004-02-01",
          "2004-03-01",
          "2004-04-01",
          "2004-05-01",
          "2004-06-01",
          "2004-07-01",
          "2004-08-01",
          "2004-09-01",
          "2004-10-01",
          "2004-11-01",
          "2004-12-01",
          "2005-01-01",
          "2005-02-01",
          "2005-03-01",
          "2005-04-01",
          "2005-05-01",
          "2005-06-01",
          "2005-07-01",
          "2005-08-01",
          "2005-09-01",
          "2005-10-01",
          "2005-11-01",
          "2005-12-01",
          "2006-01-01",
          "2006-02-01",
          "2006-03-01",
          "2006-04-01",
          "2006-05-01",
          "2006-06-01",
          "2006-07-01",
          "2006-08-01",
          "2006-09-01",
          "2006-10-01",
          "2006-11-01",
          "2006-12-01",
          "2007-01-01",
          "2007-02-01",
          "2007-03-01",
          "2007-04-01",
          "2007-05-01",
          "2007-06-01",
          "2007-07-01",
          "2007-08-01",
          "2007-09-01",
          "2007-10-01",
          "2007-11-01",
          "2007-12-01",
          "2008-01-01",
          "2008-02-01",
          "2008-03-01",
          "2008-04-01",
          "2008-05-01",
          "2008-06-01",
          "2008-07-01",
          "2008-08-01",
          "2008-09-01",
          "2008-10-01",
          "2008-11-01",
          "2008-12-01",
          "2009-01-01",
          "2009-02-01",
          "2009-03-01",
          "2009-04-01",
          "2009-05-01",
          "2009-06-01",
          "2009-07-01",
          "2009-08-01",
          "2009-09-01",
          "2009-10-01",
          "2009-11-01",
          "2009-12-01",
          "2010-01-01",
          "2010-02-01",
          "2010-03-01",
          "2010-04-01",
          "2010-05-01",
          "2010-06-01",
          "2010-07-01",
          "2010-08-01",
          "2010-09-01",
          "2010-10-01",
          "2010-11-01",
          "2010-12-01",
          "2011-01-01",
          "2011-02-01",
          "2011-03-01",
          "2011-04-01",
          "2011-05-01",
          "2011-06-01",
          "2011-07-01",
          "2011-08-01",
          "2011-09-01",
          "2011-10-01",
          "2011-11-01",
          "2011-12-01",
          "2012-01-01",
          "2012-02-01",
          "2012-03-01",
          "2012-04-01",
          "2012-05-01",
          "2012-06-01",
          "2012-07-01",
          "2012-08-01",
          "2012-09-01",
          "2012-10-01",
          "2012-11-01",
          "2012-12-01",
          "2013-01-01",
          "2013-02-01",
          "2013-03-01",
          "2013-04-01",
          "2013-05-01",
          "2013-06-01",
          "2013-07-01",
          "2013-08-01",
          "2013-09-01",
          "2013-10-01",
          "2013-11-01",
          "2013-12-01",
          "2014-01-01",
          "2014-02-01",
          "2014-03-01",
          "2014-04-01",
          "2014-05-01",
          "2014-06-01",
          "2014-07-01",
          "2014-08-01",
          "2014-09-01",
          "2014-10-01",
          "2014-11-01",
          "2014-12-01",
          "2015-01-01",
          "2015-02-01",
          "2015-03-01",
          "2015-04-01",
          "2015-05-01",
          "2015-06-01",
          "2015-07-01",
          "2015-08-01",
          "2015-09-01",
          "2015-10-01",
          "2015-11-01",
          "2015-12-01",
          "2016-01-01",
          "2016-02-01",
          "2016-03-01",
          "2016-04-01",
          "2016-05-01",
          "2016-06-01",
          "2016-07-01",
          "2016-08-01",
          "2016-09-01",
          "2016-10-01",
          "2016-11-01",
          "2016-12-01",
          "2017-01-01",
          "2017-02-01",
          "2017-03-01",
          "2017-04-01",
          "2017-05-01",
          "2017-06-01",
          "2017-07-01",
          "2017-08-01",
          "2017-09-01",
          "2017-10-01",
          "2017-11-01",
          "2017-12-01",
          "2018-01-01",
          "2018-02-01",
          "2018-03-01",
          "2018-04-01",
          "2018-05-01",
          "2018-06-01",
          "2018-07-01",
          "2018-08-01",
          "2018-09-01",
          "2018-10-01",
          "2018-11-01",
          "2018-12-01",
          "2019-01-01",
          "2019-02-01",
          "2019-03-01",
          "2019-04-01",
          "2019-05-01",
          "2019-06-01",
          "2019-07-01",
          "2019-08-01",
          "2019-09-01",
          "2019-10-01",
          "2019-11-01",
          "2019-12-01",
          "2020-01-01",
          "2020-02-01",
          "2020-03-01",
          "2020-04-01",
          "2020-05-01"
         ],
         "y": [
          1.295755,
          1.3298947368421052,
          1.328578260869565,
          1.341972727272727,
          1.37886,
          1.3578409090909092,
          1.322504761904762,
          1.3126772727272729,
          1.288095238095238,
          1.246935,
          1.19677,
          1.2188826086956521,
          1.224835,
          1.2400526315789473,
          1.2160260869565216,
          1.2359,
          1.2555285714285713,
          1.2401681818181818,
          1.222855,
          1.2042826086956522,
          1.1776809523809524,
          1.177415,
          1.181545,
          1.1614809523809524,
          1.157165,
          1.1488947368421052,
          1.157308695652174,
          1.144105,
          1.1099909090909093,
          1.113727272727273,
          1.129445,
          1.118213043478261,
          1.11612,
          1.1285380952380952,
          1.1358809523809523,
          1.153235,
          1.1762619047619047,
          1.1709894736842104,
          1.1681590909090909,
          1.1349857142857145,
          1.0950863636363637,
          1.065104761904762,
          1.0501857142857145,
          1.0578521739130435,
          1.026745,
          0.9754130434782609,
          0.9672380952380952,
          1.00207,
          1.0099428571428573,
          0.998555,
          1.0029428571428571,
          1.0137181818181817,
          0.9993047619047618,
          1.0166238095238094,
          1.0129636363636365,
          1.0534571428571429,
          1.058204761904762,
          1.1846954545454544,
          1.2170944444444445,
          1.2336954545454544,
          1.22482,
          1.2452,
          1.2645181818181819,
          1.2241818181818183,
          1.152785,
          1.1263545454545456,
          1.1228608695652174,
          1.0872380952380951,
          1.0816380952380953,
          1.0546761904761903,
          1.0593,
          1.0536909090909092,
          1.0438105263157895,
          1.0572105263157896,
          1.0229,
          1.0052090909090907,
          1.04028,
          1.0376227272727272,
          1.0422285714285715,
          1.0403954545454543,
          1.032957142857143,
          1.0179,
          1.0129,
          1.0080619047619048,
          0.993945,
          0.9876368421052631,
          0.9765608695652174,
          0.9579523809523808,
          0.9680428571428572,
          0.9766454545454544,
          0.955315,
          0.981708695652174,
          1.0025,
          1.0198,
          1.024755,
          1.0235238095238095,
          1.012985,
          0.996745,
          0.9937727272727273,
          0.9928238095238094,
          1.009731818181818,
          1.028,
          1.0142,
          0.9923826086956518,
          0.9783,
          0.9871545454545454,
          0.99697,
          0.98982,
          0.9920571428571427,
          1.0097842105263155,
          1.0244238095238094,
          1.0186727272727272,
          1.0195590909090908,
          1.0314,
          1.0402136363636365,
          1.0407181818181819,
          1.034235,
          1.036281818181818,
          1.048642105263158,
          1.0639190476190477,
          1.0940095238095238,
          1.105442105263158,
          1.1106809523809524,
          1.0992090909090908,
          1.0893857142857144,
          1.0830380952380951,
          1.0739181818181818,
          1.0926333333333331,
          1.101052380952381,
          1.1211545454545455,
          1.1325388888888888,
          1.1531619047619048,
          1.21219,
          1.2499052631578949,
          1.2618318181818182,
          1.233681818181818,
          1.21764,
          1.2364954545454545,
          1.2863136363636365,
          1.3147238095238096,
          1.3265809523809524,
          1.3072238095238096,
          1.3278526315789474,
          1.3712545454545455,
          1.4208105263157895,
          1.37969,
          1.3226391304347827,
          1.2818142857142856,
          1.2945285714285715,
          1.2894045454545455,
          1.305235,
          1.299782608695652,
          1.3107761904761903,
          1.325095,
          1.343415,
          1.3339190476190477,
          1.3183052631578949,
          1.3109157894736843,
          1.3387,
          1.343705,
          1.3605727272727273,
          1.3294863636363636,
          1.26904,
          1.2607695652173911,
          1.227875,
          1.2606904761904763,
          1.277335,
          1.27687,
          1.242904761904762,
          1.2588210526315788,
          1.2932545454545457,
          1.2731619047619047,
          1.2866272727272727,
          1.312452380952381,
          1.3133428571428571,
          1.3042478260869563,
          1.3034,
          1.3004409090909093,
          1.32048,
          1.343611111111111,
          1.330045,
          1.3208722222222222,
          1.337052380952381,
          1.3378136363636364,
          1.3459772727272727,
          1.32887,
          1.3105227272727271,
          1.3273136363636364,
          1.32405,
          1.3189227272727273,
          1.323657894736842,
          1.316895238095238,
          1.3089095238095239,
          1.3286368421052632,
          1.3960227272727272,
          1.4047954545454544,
          1.3972
         ]
        },
        {
         "line": {
          "color": "rgba(55, 128, 191, 1.0)",
          "dash": "solid",
          "shape": "linear",
          "width": 1.3
         },
         "mode": "lines",
         "name": "macro_prediction",
         "text": "",
         "type": "scatter",
         "x": [
          "2004-01-01",
          "2004-02-01",
          "2004-03-01",
          "2004-04-01",
          "2004-05-01",
          "2004-06-01",
          "2004-07-01",
          "2004-08-01",
          "2004-09-01",
          "2004-10-01",
          "2004-11-01",
          "2004-12-01",
          "2005-01-01",
          "2005-02-01",
          "2005-03-01",
          "2005-04-01",
          "2005-05-01",
          "2005-06-01",
          "2005-07-01",
          "2005-08-01",
          "2005-09-01",
          "2005-10-01",
          "2005-11-01",
          "2005-12-01",
          "2006-01-01",
          "2006-02-01",
          "2006-03-01",
          "2006-04-01",
          "2006-05-01",
          "2006-06-01",
          "2006-07-01",
          "2006-08-01",
          "2006-09-01",
          "2006-10-01",
          "2006-11-01",
          "2006-12-01",
          "2007-01-01",
          "2007-02-01",
          "2007-03-01",
          "2007-04-01",
          "2007-05-01",
          "2007-06-01",
          "2007-07-01",
          "2007-08-01",
          "2007-09-01",
          "2007-10-01",
          "2007-11-01",
          "2007-12-01",
          "2008-01-01",
          "2008-02-01",
          "2008-03-01",
          "2008-04-01",
          "2008-05-01",
          "2008-06-01",
          "2008-07-01",
          "2008-08-01",
          "2008-09-01",
          "2008-10-01",
          "2008-11-01",
          "2008-12-01",
          "2009-01-01",
          "2009-02-01",
          "2009-03-01",
          "2009-04-01",
          "2009-05-01",
          "2009-06-01",
          "2009-07-01",
          "2009-08-01",
          "2009-09-01",
          "2009-10-01",
          "2009-11-01",
          "2009-12-01",
          "2010-01-01",
          "2010-02-01",
          "2010-03-01",
          "2010-04-01",
          "2010-05-01",
          "2010-06-01",
          "2010-07-01",
          "2010-08-01",
          "2010-09-01",
          "2010-10-01",
          "2010-11-01",
          "2010-12-01",
          "2011-01-01",
          "2011-02-01",
          "2011-03-01",
          "2011-04-01",
          "2011-05-01",
          "2011-06-01",
          "2011-07-01",
          "2011-08-01",
          "2011-09-01",
          "2011-10-01",
          "2011-11-01",
          "2011-12-01",
          "2012-01-01",
          "2012-02-01",
          "2012-03-01",
          "2012-04-01",
          "2012-05-01",
          "2012-06-01",
          "2012-07-01",
          "2012-08-01",
          "2012-09-01",
          "2012-10-01",
          "2012-11-01",
          "2012-12-01",
          "2013-01-01",
          "2013-02-01",
          "2013-03-01",
          "2013-04-01",
          "2013-05-01",
          "2013-06-01",
          "2013-07-01",
          "2013-08-01",
          "2013-09-01",
          "2013-10-01",
          "2013-11-01",
          "2013-12-01",
          "2014-01-01",
          "2014-02-01",
          "2014-03-01",
          "2014-04-01",
          "2014-05-01",
          "2014-06-01",
          "2014-07-01",
          "2014-08-01",
          "2014-09-01",
          "2014-10-01",
          "2014-11-01",
          "2014-12-01",
          "2015-01-01",
          "2015-02-01",
          "2015-03-01",
          "2015-04-01",
          "2015-05-01",
          "2015-06-01",
          "2015-07-01",
          "2015-08-01",
          "2015-09-01",
          "2015-10-01",
          "2015-11-01",
          "2015-12-01",
          "2016-01-01",
          "2016-02-01",
          "2016-03-01",
          "2016-04-01",
          "2016-05-01",
          "2016-06-01",
          "2016-07-01",
          "2016-08-01",
          "2016-09-01",
          "2016-10-01",
          "2016-11-01",
          "2016-12-01",
          "2017-01-01",
          "2017-02-01",
          "2017-03-01",
          "2017-04-01",
          "2017-05-01",
          "2017-06-01",
          "2017-07-01",
          "2017-08-01",
          "2017-09-01",
          "2017-10-01",
          "2017-11-01",
          "2017-12-01",
          "2018-01-01",
          "2018-02-01",
          "2018-03-01",
          "2018-04-01",
          "2018-05-01",
          "2018-06-01",
          "2018-07-01",
          "2018-08-01",
          "2018-09-01",
          "2018-10-01",
          "2018-11-01",
          "2018-12-01",
          "2019-01-01",
          "2019-02-01",
          "2019-03-01",
          "2019-04-01",
          "2019-05-01",
          "2019-06-01",
          "2019-07-01",
          "2019-08-01",
          "2019-09-01",
          "2019-10-01",
          "2019-11-01",
          "2019-12-01",
          "2020-01-01",
          "2020-02-01",
          "2020-03-01",
          "2020-04-01",
          "2020-05-01"
         ],
         "y": [
          "",
          "",
          "",
          "",
          "",
          "",
          "",
          "",
          "",
          "",
          "",
          "",
          "",
          1.2604215960302962,
          1.1854577532979071,
          1.1148263103289402,
          1.1670076012572839,
          1.2215194834512655,
          1.2197823811664827,
          1.2230612375017311,
          1.2250282307903124,
          1.2206402876465627,
          1.212919768989113,
          1.2095305816426676,
          1.2016011970257225,
          1.1790907660152312,
          1.1696895781038084,
          1.1472317373512242,
          1.1398433231382965,
          1.1172694893760076,
          1.1012448447475807,
          1.1053838677908825,
          1.1155037030955963,
          1.1314918010652462,
          1.1421385156682735,
          1.1400557621855865,
          1.1283899697127349,
          1.1357595221346921,
          1.1368997422112188,
          1.1327305171564594,
          1.128202832196573,
          1.1124197021660818,
          1.1061571763567795,
          1.090795378179875,
          1.0652016641338893,
          1.0015310109320463,
          0.938909188524292,
          0.9564474813744361,
          0.8781596899854289,
          0.8949955377904892,
          0.9016708620407954,
          0.9422047448403381,
          0.9798061576305743,
          0.9821919446379832,
          0.9838538415559541,
          0.9969000239059544,
          1.0037884764744427,
          1.0099884805936539,
          0.960261779351427,
          0.9531158323950262,
          1.1234821264550092,
          1.1834009679165103,
          1.1935376251037848,
          1.170638796619496,
          1.2252011333530977,
          1.1752825460657341,
          1.1550039094609996,
          1.135859288105653,
          1.1356311817472564,
          1.1212410306078429,
          1.1563373329446973,
          1.1051018404939015,
          1.085367087052596,
          1.1397042522045204,
          1.0668881256002152,
          1.08931495110164,
          1.1049593758797993,
          1.0874521599394757,
          1.104941872737859,
          1.056146885982697,
          1.039993376666218,
          1.0373059423726763,
          1.0388776206120929,
          1.0342009090710604,
          1.0313757306552402,
          1.031166712489373,
          1.0262033984949712,
          1.0208638783899673,
          1.0158459724953206,
          0.9946154429072731,
          0.9724190917190141,
          0.9638816831551384,
          0.9668471927736615,
          0.9856165272461821,
          0.9915267829147845,
          0.9826893804988757,
          0.9838122764296786,
          0.98635951207193,
          0.9778387724867468,
          0.9820155246982627,
          0.9851987406839964,
          0.9762704683895134,
          0.9789767538573617,
          0.9826938820108704,
          0.9909778699168275,
          0.9967893535128383,
          0.9984986468115853,
          0.9890852491058841,
          0.9832712271380291,
          0.9929236285343497,
          0.9921653164010111,
          0.9917238351709732,
          0.9974006296718549,
          0.993507508544087,
          0.9952675966925209,
          1.0044618394494873,
          1.015674510612024,
          1.020258645555887,
          1.0137035008422774,
          1.0307421800392342,
          1.0339552281609237,
          1.0160703292757498,
          1.0181733714628738,
          1.0462972292494876,
          1.071622511610986,
          1.0781106758385235,
          1.0730032413462727,
          1.0921435932024899,
          1.0932407401968245,
          1.1235791003419973,
          1.130376632661834,
          1.1143593141490395,
          1.1370921182911635,
          1.1766007275823638,
          1.2583847511815502,
          1.2245360214913852,
          1.2306465357552305,
          1.2163408132901328,
          1.2243709410280506,
          1.2476390752032565,
          1.2564536390547776,
          1.2861895858324353,
          1.3248262630569663,
          1.299537192527385,
          1.310298610554824,
          1.3520841398724208,
          1.4446792687419574,
          1.3980699769040754,
          1.363774294684081,
          1.3346145767950297,
          1.3310487395142836,
          1.3254145656124123,
          1.3444450330982631,
          1.3368435460009263,
          1.3318915272739986,
          1.3373297521020684,
          1.3361753038858106,
          1.3330414226473224,
          1.324717077053191,
          1.3187031736347574,
          1.3214934395626203,
          1.3330259569545673,
          1.3330589204180896,
          1.3416970232304584,
          1.3364014079463047,
          1.2847032771492035,
          1.307124925000812,
          1.2542268220600405,
          1.2756262430301,
          1.2994972604082378,
          1.3116546532975413,
          1.2913675956513657,
          1.2353504206804544,
          1.2360361168301424,
          1.2882486338771297,
          1.2713968162381815,
          1.260737586532061,
          1.2668036131394649,
          1.2843947371295785,
          1.2880172355577257,
          1.2924669202818917,
          1.2901959363212598,
          1.2934169956921693,
          1.3058437698093937,
          1.3160520062826908,
          1.3229598635905804,
          1.3368458044437959,
          1.332782580830382,
          1.3191447389129303,
          1.3217402616245897,
          1.3237476298067226,
          1.327991976030497,
          1.3286582618941232,
          1.325518864889732,
          1.3161994333466815,
          1.3175601959032917,
          1.3337765718819674
         ]
        },
        {
         "line": {
          "color": "rgba(50, 171, 96, 1.0)",
          "dash": "solid",
          "shape": "linear",
          "width": 1.3
         },
         "mode": "lines",
         "name": "google_trends_prediction",
         "text": "",
         "type": "scatter",
         "x": [
          "2004-01-01",
          "2004-02-01",
          "2004-03-01",
          "2004-04-01",
          "2004-05-01",
          "2004-06-01",
          "2004-07-01",
          "2004-08-01",
          "2004-09-01",
          "2004-10-01",
          "2004-11-01",
          "2004-12-01",
          "2005-01-01",
          "2005-02-01",
          "2005-03-01",
          "2005-04-01",
          "2005-05-01",
          "2005-06-01",
          "2005-07-01",
          "2005-08-01",
          "2005-09-01",
          "2005-10-01",
          "2005-11-01",
          "2005-12-01",
          "2006-01-01",
          "2006-02-01",
          "2006-03-01",
          "2006-04-01",
          "2006-05-01",
          "2006-06-01",
          "2006-07-01",
          "2006-08-01",
          "2006-09-01",
          "2006-10-01",
          "2006-11-01",
          "2006-12-01",
          "2007-01-01",
          "2007-02-01",
          "2007-03-01",
          "2007-04-01",
          "2007-05-01",
          "2007-06-01",
          "2007-07-01",
          "2007-08-01",
          "2007-09-01",
          "2007-10-01",
          "2007-11-01",
          "2007-12-01",
          "2008-01-01",
          "2008-02-01",
          "2008-03-01",
          "2008-04-01",
          "2008-05-01",
          "2008-06-01",
          "2008-07-01",
          "2008-08-01",
          "2008-09-01",
          "2008-10-01",
          "2008-11-01",
          "2008-12-01",
          "2009-01-01",
          "2009-02-01",
          "2009-03-01",
          "2009-04-01",
          "2009-05-01",
          "2009-06-01",
          "2009-07-01",
          "2009-08-01",
          "2009-09-01",
          "2009-10-01",
          "2009-11-01",
          "2009-12-01",
          "2010-01-01",
          "2010-02-01",
          "2010-03-01",
          "2010-04-01",
          "2010-05-01",
          "2010-06-01",
          "2010-07-01",
          "2010-08-01",
          "2010-09-01",
          "2010-10-01",
          "2010-11-01",
          "2010-12-01",
          "2011-01-01",
          "2011-02-01",
          "2011-03-01",
          "2011-04-01",
          "2011-05-01",
          "2011-06-01",
          "2011-07-01",
          "2011-08-01",
          "2011-09-01",
          "2011-10-01",
          "2011-11-01",
          "2011-12-01",
          "2012-01-01",
          "2012-02-01",
          "2012-03-01",
          "2012-04-01",
          "2012-05-01",
          "2012-06-01",
          "2012-07-01",
          "2012-08-01",
          "2012-09-01",
          "2012-10-01",
          "2012-11-01",
          "2012-12-01",
          "2013-01-01",
          "2013-02-01",
          "2013-03-01",
          "2013-04-01",
          "2013-05-01",
          "2013-06-01",
          "2013-07-01",
          "2013-08-01",
          "2013-09-01",
          "2013-10-01",
          "2013-11-01",
          "2013-12-01",
          "2014-01-01",
          "2014-02-01",
          "2014-03-01",
          "2014-04-01",
          "2014-05-01",
          "2014-06-01",
          "2014-07-01",
          "2014-08-01",
          "2014-09-01",
          "2014-10-01",
          "2014-11-01",
          "2014-12-01",
          "2015-01-01",
          "2015-02-01",
          "2015-03-01",
          "2015-04-01",
          "2015-05-01",
          "2015-06-01",
          "2015-07-01",
          "2015-08-01",
          "2015-09-01",
          "2015-10-01",
          "2015-11-01",
          "2015-12-01",
          "2016-01-01",
          "2016-02-01",
          "2016-03-01",
          "2016-04-01",
          "2016-05-01",
          "2016-06-01",
          "2016-07-01",
          "2016-08-01",
          "2016-09-01",
          "2016-10-01",
          "2016-11-01",
          "2016-12-01",
          "2017-01-01",
          "2017-02-01",
          "2017-03-01",
          "2017-04-01",
          "2017-05-01",
          "2017-06-01",
          "2017-07-01",
          "2017-08-01",
          "2017-09-01",
          "2017-10-01",
          "2017-11-01",
          "2017-12-01",
          "2018-01-01",
          "2018-02-01",
          "2018-03-01",
          "2018-04-01",
          "2018-05-01",
          "2018-06-01",
          "2018-07-01",
          "2018-08-01",
          "2018-09-01",
          "2018-10-01",
          "2018-11-01",
          "2018-12-01",
          "2019-01-01",
          "2019-02-01",
          "2019-03-01",
          "2019-04-01",
          "2019-05-01",
          "2019-06-01",
          "2019-07-01",
          "2019-08-01",
          "2019-09-01",
          "2019-10-01",
          "2019-11-01",
          "2019-12-01",
          "2020-01-01",
          "2020-02-01",
          "2020-03-01",
          "2020-04-01",
          "2020-05-01"
         ],
         "y": [
          "",
          "",
          "",
          "",
          "",
          "",
          "",
          "",
          "",
          "",
          "",
          "",
          "",
          1.271943848221131,
          1.299681436710858,
          1.2713570740000355,
          1.257434198314881,
          1.3222521995244882,
          1.2704917281441999,
          1.2512774356644523,
          1.2945462008229602,
          1.2339972472467844,
          1.220199575323521,
          1.2194936322183858,
          1.2242275009579031,
          1.2283909924375203,
          1.2013915110200248,
          1.1991789791037386,
          1.1942871084424223,
          1.1845302697200144,
          1.1698520649674449,
          1.169136441756171,
          1.1442748538600176,
          1.151175520055944,
          1.136611704405009,
          1.1383488785404947,
          1.1357510666563875,
          1.1320383301190098,
          1.136135834284943,
          1.1363678404263418,
          1.1383298071803363,
          1.138142448224736,
          1.1361827550286157,
          1.1331192357014803,
          1.124859322020654,
          1.1132253180020482,
          1.1029434999441183,
          1.1232493311317793,
          1.1246962211203881,
          1.0907610195358224,
          1.0880023132785006,
          1.0989204019102732,
          1.0778831874926607,
          1.0224142836273473,
          1.0139837024751406,
          1.0099954771215085,
          1.0067292744382432,
          1.0053609099659664,
          1.006090738127845,
          1.017692175662197,
          1.0597706434458933,
          1.0694788733914338,
          1.1065767545944643,
          1.162834713533638,
          1.202814987774317,
          1.1616556466329717,
          1.1595744705929398,
          1.145665351230948,
          1.1230875412413155,
          1.1793164879983635,
          1.1312845849772133,
          1.1632566938997009,
          1.1545712298667203,
          1.1782998796436006,
          1.0848402437190112,
          1.0623378739566782,
          1.0795302404938203,
          1.063060029093785,
          1.0564724895845352,
          1.0433648572657692,
          1.0421910986043268,
          1.0277466140822171,
          1.037905318835973,
          1.0373413818547839,
          1.0555025737892247,
          1.044782780890955,
          1.0248982949653498,
          1.0036240733348778,
          1.0093264625564187,
          0.9709839496326662,
          1.0055515170722313,
          1.0174101493876482,
          0.9933581264574844,
          0.9801213617388969,
          0.9858587844197102,
          0.9836676987626772,
          0.986971488619943,
          0.995412468743109,
          0.9953183292560971,
          0.9879499293897936,
          0.9958764164479731,
          1.000585345384912,
          1.0005775935877559,
          1.0016167516357042,
          1.0024868700783247,
          1.0089939385381113,
          1.003690218094457,
          1.0053635712300069,
          0.9950336453637814,
          0.9996745500777451,
          0.9975946268094751,
          0.9870170715178876,
          0.9768552737829291,
          1.0116134191955684,
          0.9945640318033924,
          0.9928114796933007,
          1.005721154432424,
          1.0117979224497256,
          1.014637490441346,
          1.026655452087558,
          1.0270056424441105,
          1.0353447807998577,
          1.0508529306210135,
          1.072861167024993,
          1.0727186853298034,
          1.0725988350025972,
          1.0820798330709345,
          1.1102360798663542,
          1.0785742222535872,
          1.0969662442699795,
          1.1031515571965622,
          1.132473846740593,
          1.1341277512980135,
          1.1407731369519858,
          1.140536679813139,
          1.1497370712290071,
          1.1384035470974065,
          1.1266058226178235,
          1.1285977444551887,
          1.2036497444775025,
          1.1841165517011008,
          1.205858130142478,
          1.2283243880207402,
          1.23563027880916,
          1.233061186304821,
          1.2707448359941729,
          1.303175332665793,
          1.3176832222625752,
          1.2789471784992124,
          1.2625881829367183,
          1.231104343638254,
          1.3530698440181632,
          1.3214083242867725,
          1.2918871547234598,
          1.2975589479151795,
          1.2995209257703628,
          1.294408126922553,
          1.2833698166196437,
          1.3092956842269916,
          1.3104480082823926,
          1.3225852043985127,
          1.3232184346046474,
          1.3283274153451816,
          1.3209409416912152,
          1.32014053922397,
          1.3264011400333289,
          1.2888225561483608,
          1.3264013881107581,
          1.3018916878722187,
          1.312585143998352,
          1.2884919040692258,
          1.2707441565416167,
          1.2734021452693514,
          1.2822234424208052,
          1.2672306190871385,
          1.2620711365733361,
          1.2732117227148436,
          1.2785991098004408,
          1.2905207692824898,
          1.2875927410123567,
          1.2791797326567846,
          1.2876351680378932,
          1.302934438803293,
          1.2889409808740402,
          1.3046855555815422,
          1.3190657189661636,
          1.3221376866500159,
          1.3231902262995154,
          1.3236704555606547,
          1.3217485858215667,
          1.32316184270393,
          1.3218355609269192,
          1.3229622399160192,
          1.3226669441447811,
          1.363511464693018,
          1.3223031667822043,
          1.3268318459348754
         ]
        }
       ],
       "layout": {
        "legend": {
         "bgcolor": "#F5F6F9",
         "font": {
          "color": "#4D5663"
         }
        },
        "paper_bgcolor": "#F5F6F9",
        "plot_bgcolor": "#F5F6F9",
        "template": {
         "data": {
          "bar": [
           {
            "error_x": {
             "color": "#2a3f5f"
            },
            "error_y": {
             "color": "#2a3f5f"
            },
            "marker": {
             "line": {
              "color": "#E5ECF6",
              "width": 0.5
             }
            },
            "type": "bar"
           }
          ],
          "barpolar": [
           {
            "marker": {
             "line": {
              "color": "#E5ECF6",
              "width": 0.5
             }
            },
            "type": "barpolar"
           }
          ],
          "carpet": [
           {
            "aaxis": {
             "endlinecolor": "#2a3f5f",
             "gridcolor": "white",
             "linecolor": "white",
             "minorgridcolor": "white",
             "startlinecolor": "#2a3f5f"
            },
            "baxis": {
             "endlinecolor": "#2a3f5f",
             "gridcolor": "white",
             "linecolor": "white",
             "minorgridcolor": "white",
             "startlinecolor": "#2a3f5f"
            },
            "type": "carpet"
           }
          ],
          "choropleth": [
           {
            "colorbar": {
             "outlinewidth": 0,
             "ticks": ""
            },
            "type": "choropleth"
           }
          ],
          "contour": [
           {
            "colorbar": {
             "outlinewidth": 0,
             "ticks": ""
            },
            "colorscale": [
             [
              0,
              "#0d0887"
             ],
             [
              0.1111111111111111,
              "#46039f"
             ],
             [
              0.2222222222222222,
              "#7201a8"
             ],
             [
              0.3333333333333333,
              "#9c179e"
             ],
             [
              0.4444444444444444,
              "#bd3786"
             ],
             [
              0.5555555555555556,
              "#d8576b"
             ],
             [
              0.6666666666666666,
              "#ed7953"
             ],
             [
              0.7777777777777778,
              "#fb9f3a"
             ],
             [
              0.8888888888888888,
              "#fdca26"
             ],
             [
              1,
              "#f0f921"
             ]
            ],
            "type": "contour"
           }
          ],
          "contourcarpet": [
           {
            "colorbar": {
             "outlinewidth": 0,
             "ticks": ""
            },
            "type": "contourcarpet"
           }
          ],
          "heatmap": [
           {
            "colorbar": {
             "outlinewidth": 0,
             "ticks": ""
            },
            "colorscale": [
             [
              0,
              "#0d0887"
             ],
             [
              0.1111111111111111,
              "#46039f"
             ],
             [
              0.2222222222222222,
              "#7201a8"
             ],
             [
              0.3333333333333333,
              "#9c179e"
             ],
             [
              0.4444444444444444,
              "#bd3786"
             ],
             [
              0.5555555555555556,
              "#d8576b"
             ],
             [
              0.6666666666666666,
              "#ed7953"
             ],
             [
              0.7777777777777778,
              "#fb9f3a"
             ],
             [
              0.8888888888888888,
              "#fdca26"
             ],
             [
              1,
              "#f0f921"
             ]
            ],
            "type": "heatmap"
           }
          ],
          "heatmapgl": [
           {
            "colorbar": {
             "outlinewidth": 0,
             "ticks": ""
            },
            "colorscale": [
             [
              0,
              "#0d0887"
             ],
             [
              0.1111111111111111,
              "#46039f"
             ],
             [
              0.2222222222222222,
              "#7201a8"
             ],
             [
              0.3333333333333333,
              "#9c179e"
             ],
             [
              0.4444444444444444,
              "#bd3786"
             ],
             [
              0.5555555555555556,
              "#d8576b"
             ],
             [
              0.6666666666666666,
              "#ed7953"
             ],
             [
              0.7777777777777778,
              "#fb9f3a"
             ],
             [
              0.8888888888888888,
              "#fdca26"
             ],
             [
              1,
              "#f0f921"
             ]
            ],
            "type": "heatmapgl"
           }
          ],
          "histogram": [
           {
            "marker": {
             "colorbar": {
              "outlinewidth": 0,
              "ticks": ""
             }
            },
            "type": "histogram"
           }
          ],
          "histogram2d": [
           {
            "colorbar": {
             "outlinewidth": 0,
             "ticks": ""
            },
            "colorscale": [
             [
              0,
              "#0d0887"
             ],
             [
              0.1111111111111111,
              "#46039f"
             ],
             [
              0.2222222222222222,
              "#7201a8"
             ],
             [
              0.3333333333333333,
              "#9c179e"
             ],
             [
              0.4444444444444444,
              "#bd3786"
             ],
             [
              0.5555555555555556,
              "#d8576b"
             ],
             [
              0.6666666666666666,
              "#ed7953"
             ],
             [
              0.7777777777777778,
              "#fb9f3a"
             ],
             [
              0.8888888888888888,
              "#fdca26"
             ],
             [
              1,
              "#f0f921"
             ]
            ],
            "type": "histogram2d"
           }
          ],
          "histogram2dcontour": [
           {
            "colorbar": {
             "outlinewidth": 0,
             "ticks": ""
            },
            "colorscale": [
             [
              0,
              "#0d0887"
             ],
             [
              0.1111111111111111,
              "#46039f"
             ],
             [
              0.2222222222222222,
              "#7201a8"
             ],
             [
              0.3333333333333333,
              "#9c179e"
             ],
             [
              0.4444444444444444,
              "#bd3786"
             ],
             [
              0.5555555555555556,
              "#d8576b"
             ],
             [
              0.6666666666666666,
              "#ed7953"
             ],
             [
              0.7777777777777778,
              "#fb9f3a"
             ],
             [
              0.8888888888888888,
              "#fdca26"
             ],
             [
              1,
              "#f0f921"
             ]
            ],
            "type": "histogram2dcontour"
           }
          ],
          "mesh3d": [
           {
            "colorbar": {
             "outlinewidth": 0,
             "ticks": ""
            },
            "type": "mesh3d"
           }
          ],
          "parcoords": [
           {
            "line": {
             "colorbar": {
              "outlinewidth": 0,
              "ticks": ""
             }
            },
            "type": "parcoords"
           }
          ],
          "pie": [
           {
            "automargin": true,
            "type": "pie"
           }
          ],
          "scatter": [
           {
            "marker": {
             "colorbar": {
              "outlinewidth": 0,
              "ticks": ""
             }
            },
            "type": "scatter"
           }
          ],
          "scatter3d": [
           {
            "line": {
             "colorbar": {
              "outlinewidth": 0,
              "ticks": ""
             }
            },
            "marker": {
             "colorbar": {
              "outlinewidth": 0,
              "ticks": ""
             }
            },
            "type": "scatter3d"
           }
          ],
          "scattercarpet": [
           {
            "marker": {
             "colorbar": {
              "outlinewidth": 0,
              "ticks": ""
             }
            },
            "type": "scattercarpet"
           }
          ],
          "scattergeo": [
           {
            "marker": {
             "colorbar": {
              "outlinewidth": 0,
              "ticks": ""
             }
            },
            "type": "scattergeo"
           }
          ],
          "scattergl": [
           {
            "marker": {
             "colorbar": {
              "outlinewidth": 0,
              "ticks": ""
             }
            },
            "type": "scattergl"
           }
          ],
          "scattermapbox": [
           {
            "marker": {
             "colorbar": {
              "outlinewidth": 0,
              "ticks": ""
             }
            },
            "type": "scattermapbox"
           }
          ],
          "scatterpolar": [
           {
            "marker": {
             "colorbar": {
              "outlinewidth": 0,
              "ticks": ""
             }
            },
            "type": "scatterpolar"
           }
          ],
          "scatterpolargl": [
           {
            "marker": {
             "colorbar": {
              "outlinewidth": 0,
              "ticks": ""
             }
            },
            "type": "scatterpolargl"
           }
          ],
          "scatterternary": [
           {
            "marker": {
             "colorbar": {
              "outlinewidth": 0,
              "ticks": ""
             }
            },
            "type": "scatterternary"
           }
          ],
          "surface": [
           {
            "colorbar": {
             "outlinewidth": 0,
             "ticks": ""
            },
            "colorscale": [
             [
              0,
              "#0d0887"
             ],
             [
              0.1111111111111111,
              "#46039f"
             ],
             [
              0.2222222222222222,
              "#7201a8"
             ],
             [
              0.3333333333333333,
              "#9c179e"
             ],
             [
              0.4444444444444444,
              "#bd3786"
             ],
             [
              0.5555555555555556,
              "#d8576b"
             ],
             [
              0.6666666666666666,
              "#ed7953"
             ],
             [
              0.7777777777777778,
              "#fb9f3a"
             ],
             [
              0.8888888888888888,
              "#fdca26"
             ],
             [
              1,
              "#f0f921"
             ]
            ],
            "type": "surface"
           }
          ],
          "table": [
           {
            "cells": {
             "fill": {
              "color": "#EBF0F8"
             },
             "line": {
              "color": "white"
             }
            },
            "header": {
             "fill": {
              "color": "#C8D4E3"
             },
             "line": {
              "color": "white"
             }
            },
            "type": "table"
           }
          ]
         },
         "layout": {
          "annotationdefaults": {
           "arrowcolor": "#2a3f5f",
           "arrowhead": 0,
           "arrowwidth": 1
          },
          "coloraxis": {
           "colorbar": {
            "outlinewidth": 0,
            "ticks": ""
           }
          },
          "colorscale": {
           "diverging": [
            [
             0,
             "#8e0152"
            ],
            [
             0.1,
             "#c51b7d"
            ],
            [
             0.2,
             "#de77ae"
            ],
            [
             0.3,
             "#f1b6da"
            ],
            [
             0.4,
             "#fde0ef"
            ],
            [
             0.5,
             "#f7f7f7"
            ],
            [
             0.6,
             "#e6f5d0"
            ],
            [
             0.7,
             "#b8e186"
            ],
            [
             0.8,
             "#7fbc41"
            ],
            [
             0.9,
             "#4d9221"
            ],
            [
             1,
             "#276419"
            ]
           ],
           "sequential": [
            [
             0,
             "#0d0887"
            ],
            [
             0.1111111111111111,
             "#46039f"
            ],
            [
             0.2222222222222222,
             "#7201a8"
            ],
            [
             0.3333333333333333,
             "#9c179e"
            ],
            [
             0.4444444444444444,
             "#bd3786"
            ],
            [
             0.5555555555555556,
             "#d8576b"
            ],
            [
             0.6666666666666666,
             "#ed7953"
            ],
            [
             0.7777777777777778,
             "#fb9f3a"
            ],
            [
             0.8888888888888888,
             "#fdca26"
            ],
            [
             1,
             "#f0f921"
            ]
           ],
           "sequentialminus": [
            [
             0,
             "#0d0887"
            ],
            [
             0.1111111111111111,
             "#46039f"
            ],
            [
             0.2222222222222222,
             "#7201a8"
            ],
            [
             0.3333333333333333,
             "#9c179e"
            ],
            [
             0.4444444444444444,
             "#bd3786"
            ],
            [
             0.5555555555555556,
             "#d8576b"
            ],
            [
             0.6666666666666666,
             "#ed7953"
            ],
            [
             0.7777777777777778,
             "#fb9f3a"
            ],
            [
             0.8888888888888888,
             "#fdca26"
            ],
            [
             1,
             "#f0f921"
            ]
           ]
          },
          "colorway": [
           "#636efa",
           "#EF553B",
           "#00cc96",
           "#ab63fa",
           "#FFA15A",
           "#19d3f3",
           "#FF6692",
           "#B6E880",
           "#FF97FF",
           "#FECB52"
          ],
          "font": {
           "color": "#2a3f5f"
          },
          "geo": {
           "bgcolor": "white",
           "lakecolor": "white",
           "landcolor": "#E5ECF6",
           "showlakes": true,
           "showland": true,
           "subunitcolor": "white"
          },
          "hoverlabel": {
           "align": "left"
          },
          "hovermode": "closest",
          "mapbox": {
           "style": "light"
          },
          "paper_bgcolor": "white",
          "plot_bgcolor": "#E5ECF6",
          "polar": {
           "angularaxis": {
            "gridcolor": "white",
            "linecolor": "white",
            "ticks": ""
           },
           "bgcolor": "#E5ECF6",
           "radialaxis": {
            "gridcolor": "white",
            "linecolor": "white",
            "ticks": ""
           }
          },
          "scene": {
           "xaxis": {
            "backgroundcolor": "#E5ECF6",
            "gridcolor": "white",
            "gridwidth": 2,
            "linecolor": "white",
            "showbackground": true,
            "ticks": "",
            "zerolinecolor": "white"
           },
           "yaxis": {
            "backgroundcolor": "#E5ECF6",
            "gridcolor": "white",
            "gridwidth": 2,
            "linecolor": "white",
            "showbackground": true,
            "ticks": "",
            "zerolinecolor": "white"
           },
           "zaxis": {
            "backgroundcolor": "#E5ECF6",
            "gridcolor": "white",
            "gridwidth": 2,
            "linecolor": "white",
            "showbackground": true,
            "ticks": "",
            "zerolinecolor": "white"
           }
          },
          "shapedefaults": {
           "line": {
            "color": "#2a3f5f"
           }
          },
          "ternary": {
           "aaxis": {
            "gridcolor": "white",
            "linecolor": "white",
            "ticks": ""
           },
           "baxis": {
            "gridcolor": "white",
            "linecolor": "white",
            "ticks": ""
           },
           "bgcolor": "#E5ECF6",
           "caxis": {
            "gridcolor": "white",
            "linecolor": "white",
            "ticks": ""
           }
          },
          "title": {
           "x": 0.05
          },
          "xaxis": {
           "automargin": true,
           "gridcolor": "white",
           "linecolor": "white",
           "ticks": "",
           "title": {
            "standoff": 15
           },
           "zerolinecolor": "white",
           "zerolinewidth": 2
          },
          "yaxis": {
           "automargin": true,
           "gridcolor": "white",
           "linecolor": "white",
           "ticks": "",
           "title": {
            "standoff": 15
           },
           "zerolinecolor": "white",
           "zerolinewidth": 2
          }
         }
        },
        "title": {
         "font": {
          "color": "#4D5663"
         }
        },
        "xaxis": {
         "gridcolor": "#E1E5ED",
         "showgrid": true,
         "tickfont": {
          "color": "#4D5663"
         },
         "title": {
          "font": {
           "color": "#4D5663"
          },
          "text": ""
         },
         "zerolinecolor": "#E1E5ED"
        },
        "yaxis": {
         "gridcolor": "#E1E5ED",
         "showgrid": true,
         "tickfont": {
          "color": "#4D5663"
         },
         "title": {
          "font": {
           "color": "#4D5663"
          },
          "text": ""
         },
         "zerolinecolor": "#E1E5ED"
        }
       }
      },
      "text/html": [
       "<div>                            <div id=\"35038fa5-7a5b-400a-aecc-87d4d7f6aa3f\" class=\"plotly-graph-div\" style=\"height:525px; width:100%;\"></div>            <script type=\"text/javascript\">                require([\"plotly\"], function(Plotly) {                    window.PLOTLYENV=window.PLOTLYENV || {};\n",
       "                    window.PLOTLYENV.BASE_URL='https://plot.ly';                                    if (document.getElementById(\"35038fa5-7a5b-400a-aecc-87d4d7f6aa3f\")) {                    Plotly.newPlot(                        \"35038fa5-7a5b-400a-aecc-87d4d7f6aa3f\",                        [{\"line\": {\"color\": \"rgba(255, 153, 51, 1.0)\", \"dash\": \"solid\", \"shape\": \"linear\", \"width\": 1.3}, \"mode\": \"lines\", \"name\": \"actual_exr\", \"text\": \"\", \"type\": \"scatter\", \"x\": [\"2004-01-01\", \"2004-02-01\", \"2004-03-01\", \"2004-04-01\", \"2004-05-01\", \"2004-06-01\", \"2004-07-01\", \"2004-08-01\", \"2004-09-01\", \"2004-10-01\", \"2004-11-01\", \"2004-12-01\", \"2005-01-01\", \"2005-02-01\", \"2005-03-01\", \"2005-04-01\", \"2005-05-01\", \"2005-06-01\", \"2005-07-01\", \"2005-08-01\", \"2005-09-01\", \"2005-10-01\", \"2005-11-01\", \"2005-12-01\", \"2006-01-01\", \"2006-02-01\", \"2006-03-01\", \"2006-04-01\", \"2006-05-01\", \"2006-06-01\", \"2006-07-01\", \"2006-08-01\", \"2006-09-01\", \"2006-10-01\", \"2006-11-01\", \"2006-12-01\", \"2007-01-01\", \"2007-02-01\", \"2007-03-01\", \"2007-04-01\", \"2007-05-01\", \"2007-06-01\", \"2007-07-01\", \"2007-08-01\", \"2007-09-01\", \"2007-10-01\", \"2007-11-01\", \"2007-12-01\", \"2008-01-01\", \"2008-02-01\", \"2008-03-01\", \"2008-04-01\", \"2008-05-01\", \"2008-06-01\", \"2008-07-01\", \"2008-08-01\", \"2008-09-01\", \"2008-10-01\", \"2008-11-01\", \"2008-12-01\", \"2009-01-01\", \"2009-02-01\", \"2009-03-01\", \"2009-04-01\", \"2009-05-01\", \"2009-06-01\", \"2009-07-01\", \"2009-08-01\", \"2009-09-01\", \"2009-10-01\", \"2009-11-01\", \"2009-12-01\", \"2010-01-01\", \"2010-02-01\", \"2010-03-01\", \"2010-04-01\", \"2010-05-01\", \"2010-06-01\", \"2010-07-01\", \"2010-08-01\", \"2010-09-01\", \"2010-10-01\", \"2010-11-01\", \"2010-12-01\", \"2011-01-01\", \"2011-02-01\", \"2011-03-01\", \"2011-04-01\", \"2011-05-01\", \"2011-06-01\", \"2011-07-01\", \"2011-08-01\", \"2011-09-01\", \"2011-10-01\", \"2011-11-01\", \"2011-12-01\", \"2012-01-01\", \"2012-02-01\", \"2012-03-01\", \"2012-04-01\", \"2012-05-01\", \"2012-06-01\", \"2012-07-01\", \"2012-08-01\", \"2012-09-01\", \"2012-10-01\", \"2012-11-01\", \"2012-12-01\", \"2013-01-01\", \"2013-02-01\", \"2013-03-01\", \"2013-04-01\", \"2013-05-01\", \"2013-06-01\", \"2013-07-01\", \"2013-08-01\", \"2013-09-01\", \"2013-10-01\", \"2013-11-01\", \"2013-12-01\", \"2014-01-01\", \"2014-02-01\", \"2014-03-01\", \"2014-04-01\", \"2014-05-01\", \"2014-06-01\", \"2014-07-01\", \"2014-08-01\", \"2014-09-01\", \"2014-10-01\", \"2014-11-01\", \"2014-12-01\", \"2015-01-01\", \"2015-02-01\", \"2015-03-01\", \"2015-04-01\", \"2015-05-01\", \"2015-06-01\", \"2015-07-01\", \"2015-08-01\", \"2015-09-01\", \"2015-10-01\", \"2015-11-01\", \"2015-12-01\", \"2016-01-01\", \"2016-02-01\", \"2016-03-01\", \"2016-04-01\", \"2016-05-01\", \"2016-06-01\", \"2016-07-01\", \"2016-08-01\", \"2016-09-01\", \"2016-10-01\", \"2016-11-01\", \"2016-12-01\", \"2017-01-01\", \"2017-02-01\", \"2017-03-01\", \"2017-04-01\", \"2017-05-01\", \"2017-06-01\", \"2017-07-01\", \"2017-08-01\", \"2017-09-01\", \"2017-10-01\", \"2017-11-01\", \"2017-12-01\", \"2018-01-01\", \"2018-02-01\", \"2018-03-01\", \"2018-04-01\", \"2018-05-01\", \"2018-06-01\", \"2018-07-01\", \"2018-08-01\", \"2018-09-01\", \"2018-10-01\", \"2018-11-01\", \"2018-12-01\", \"2019-01-01\", \"2019-02-01\", \"2019-03-01\", \"2019-04-01\", \"2019-05-01\", \"2019-06-01\", \"2019-07-01\", \"2019-08-01\", \"2019-09-01\", \"2019-10-01\", \"2019-11-01\", \"2019-12-01\", \"2020-01-01\", \"2020-02-01\", \"2020-03-01\", \"2020-04-01\", \"2020-05-01\"], \"y\": [1.295755, 1.3298947368421052, 1.328578260869565, 1.341972727272727, 1.37886, 1.3578409090909092, 1.322504761904762, 1.3126772727272729, 1.288095238095238, 1.246935, 1.19677, 1.2188826086956521, 1.224835, 1.2400526315789473, 1.2160260869565216, 1.2359, 1.2555285714285713, 1.2401681818181818, 1.222855, 1.2042826086956522, 1.1776809523809524, 1.177415, 1.181545, 1.1614809523809524, 1.157165, 1.1488947368421052, 1.157308695652174, 1.144105, 1.1099909090909093, 1.113727272727273, 1.129445, 1.118213043478261, 1.11612, 1.1285380952380952, 1.1358809523809523, 1.153235, 1.1762619047619047, 1.1709894736842104, 1.1681590909090909, 1.1349857142857145, 1.0950863636363637, 1.065104761904762, 1.0501857142857145, 1.0578521739130435, 1.026745, 0.9754130434782609, 0.9672380952380952, 1.00207, 1.0099428571428573, 0.998555, 1.0029428571428571, 1.0137181818181817, 0.9993047619047618, 1.0166238095238094, 1.0129636363636365, 1.0534571428571429, 1.058204761904762, 1.1846954545454544, 1.2170944444444445, 1.2336954545454544, 1.22482, 1.2452, 1.2645181818181819, 1.2241818181818183, 1.152785, 1.1263545454545456, 1.1228608695652174, 1.0872380952380951, 1.0816380952380953, 1.0546761904761903, 1.0593, 1.0536909090909092, 1.0438105263157895, 1.0572105263157896, 1.0229, 1.0052090909090907, 1.04028, 1.0376227272727272, 1.0422285714285715, 1.0403954545454543, 1.032957142857143, 1.0179, 1.0129, 1.0080619047619048, 0.993945, 0.9876368421052631, 0.9765608695652174, 0.9579523809523808, 0.9680428571428572, 0.9766454545454544, 0.955315, 0.981708695652174, 1.0025, 1.0198, 1.024755, 1.0235238095238095, 1.012985, 0.996745, 0.9937727272727273, 0.9928238095238094, 1.009731818181818, 1.028, 1.0142, 0.9923826086956518, 0.9783, 0.9871545454545454, 0.99697, 0.98982, 0.9920571428571427, 1.0097842105263155, 1.0244238095238094, 1.0186727272727272, 1.0195590909090908, 1.0314, 1.0402136363636365, 1.0407181818181819, 1.034235, 1.036281818181818, 1.048642105263158, 1.0639190476190477, 1.0940095238095238, 1.105442105263158, 1.1106809523809524, 1.0992090909090908, 1.0893857142857144, 1.0830380952380951, 1.0739181818181818, 1.0926333333333331, 1.101052380952381, 1.1211545454545455, 1.1325388888888888, 1.1531619047619048, 1.21219, 1.2499052631578949, 1.2618318181818182, 1.233681818181818, 1.21764, 1.2364954545454545, 1.2863136363636365, 1.3147238095238096, 1.3265809523809524, 1.3072238095238096, 1.3278526315789474, 1.3712545454545455, 1.4208105263157895, 1.37969, 1.3226391304347827, 1.2818142857142856, 1.2945285714285715, 1.2894045454545455, 1.305235, 1.299782608695652, 1.3107761904761903, 1.325095, 1.343415, 1.3339190476190477, 1.3183052631578949, 1.3109157894736843, 1.3387, 1.343705, 1.3605727272727273, 1.3294863636363636, 1.26904, 1.2607695652173911, 1.227875, 1.2606904761904763, 1.277335, 1.27687, 1.242904761904762, 1.2588210526315788, 1.2932545454545457, 1.2731619047619047, 1.2866272727272727, 1.312452380952381, 1.3133428571428571, 1.3042478260869563, 1.3034, 1.3004409090909093, 1.32048, 1.343611111111111, 1.330045, 1.3208722222222222, 1.337052380952381, 1.3378136363636364, 1.3459772727272727, 1.32887, 1.3105227272727271, 1.3273136363636364, 1.32405, 1.3189227272727273, 1.323657894736842, 1.316895238095238, 1.3089095238095239, 1.3286368421052632, 1.3960227272727272, 1.4047954545454544, 1.3972]}, {\"line\": {\"color\": \"rgba(55, 128, 191, 1.0)\", \"dash\": \"solid\", \"shape\": \"linear\", \"width\": 1.3}, \"mode\": \"lines\", \"name\": \"macro_prediction\", \"text\": \"\", \"type\": \"scatter\", \"x\": [\"2004-01-01\", \"2004-02-01\", \"2004-03-01\", \"2004-04-01\", \"2004-05-01\", \"2004-06-01\", \"2004-07-01\", \"2004-08-01\", \"2004-09-01\", \"2004-10-01\", \"2004-11-01\", \"2004-12-01\", \"2005-01-01\", \"2005-02-01\", \"2005-03-01\", \"2005-04-01\", \"2005-05-01\", \"2005-06-01\", \"2005-07-01\", \"2005-08-01\", \"2005-09-01\", \"2005-10-01\", \"2005-11-01\", \"2005-12-01\", \"2006-01-01\", \"2006-02-01\", \"2006-03-01\", \"2006-04-01\", \"2006-05-01\", \"2006-06-01\", \"2006-07-01\", \"2006-08-01\", \"2006-09-01\", \"2006-10-01\", \"2006-11-01\", \"2006-12-01\", \"2007-01-01\", \"2007-02-01\", \"2007-03-01\", \"2007-04-01\", \"2007-05-01\", \"2007-06-01\", \"2007-07-01\", \"2007-08-01\", \"2007-09-01\", \"2007-10-01\", \"2007-11-01\", \"2007-12-01\", \"2008-01-01\", \"2008-02-01\", \"2008-03-01\", \"2008-04-01\", \"2008-05-01\", \"2008-06-01\", \"2008-07-01\", \"2008-08-01\", \"2008-09-01\", \"2008-10-01\", \"2008-11-01\", \"2008-12-01\", \"2009-01-01\", \"2009-02-01\", \"2009-03-01\", \"2009-04-01\", \"2009-05-01\", \"2009-06-01\", \"2009-07-01\", \"2009-08-01\", \"2009-09-01\", \"2009-10-01\", \"2009-11-01\", \"2009-12-01\", \"2010-01-01\", \"2010-02-01\", \"2010-03-01\", \"2010-04-01\", \"2010-05-01\", \"2010-06-01\", \"2010-07-01\", \"2010-08-01\", \"2010-09-01\", \"2010-10-01\", \"2010-11-01\", \"2010-12-01\", \"2011-01-01\", \"2011-02-01\", \"2011-03-01\", \"2011-04-01\", \"2011-05-01\", \"2011-06-01\", \"2011-07-01\", \"2011-08-01\", \"2011-09-01\", \"2011-10-01\", \"2011-11-01\", \"2011-12-01\", \"2012-01-01\", \"2012-02-01\", \"2012-03-01\", \"2012-04-01\", \"2012-05-01\", \"2012-06-01\", \"2012-07-01\", \"2012-08-01\", \"2012-09-01\", \"2012-10-01\", \"2012-11-01\", \"2012-12-01\", \"2013-01-01\", \"2013-02-01\", \"2013-03-01\", \"2013-04-01\", \"2013-05-01\", \"2013-06-01\", \"2013-07-01\", \"2013-08-01\", \"2013-09-01\", \"2013-10-01\", \"2013-11-01\", \"2013-12-01\", \"2014-01-01\", \"2014-02-01\", \"2014-03-01\", \"2014-04-01\", \"2014-05-01\", \"2014-06-01\", \"2014-07-01\", \"2014-08-01\", \"2014-09-01\", \"2014-10-01\", \"2014-11-01\", \"2014-12-01\", \"2015-01-01\", \"2015-02-01\", \"2015-03-01\", \"2015-04-01\", \"2015-05-01\", \"2015-06-01\", \"2015-07-01\", \"2015-08-01\", \"2015-09-01\", \"2015-10-01\", \"2015-11-01\", \"2015-12-01\", \"2016-01-01\", \"2016-02-01\", \"2016-03-01\", \"2016-04-01\", \"2016-05-01\", \"2016-06-01\", \"2016-07-01\", \"2016-08-01\", \"2016-09-01\", \"2016-10-01\", \"2016-11-01\", \"2016-12-01\", \"2017-01-01\", \"2017-02-01\", \"2017-03-01\", \"2017-04-01\", \"2017-05-01\", \"2017-06-01\", \"2017-07-01\", \"2017-08-01\", \"2017-09-01\", \"2017-10-01\", \"2017-11-01\", \"2017-12-01\", \"2018-01-01\", \"2018-02-01\", \"2018-03-01\", \"2018-04-01\", \"2018-05-01\", \"2018-06-01\", \"2018-07-01\", \"2018-08-01\", \"2018-09-01\", \"2018-10-01\", \"2018-11-01\", \"2018-12-01\", \"2019-01-01\", \"2019-02-01\", \"2019-03-01\", \"2019-04-01\", \"2019-05-01\", \"2019-06-01\", \"2019-07-01\", \"2019-08-01\", \"2019-09-01\", \"2019-10-01\", \"2019-11-01\", \"2019-12-01\", \"2020-01-01\", \"2020-02-01\", \"2020-03-01\", \"2020-04-01\", \"2020-05-01\"], \"y\": [\"\", \"\", \"\", \"\", \"\", \"\", \"\", \"\", \"\", \"\", \"\", \"\", \"\", 1.2604215960302962, 1.1854577532979071, 1.1148263103289402, 1.1670076012572839, 1.2215194834512655, 1.2197823811664827, 1.2230612375017311, 1.2250282307903124, 1.2206402876465627, 1.212919768989113, 1.2095305816426676, 1.2016011970257225, 1.1790907660152312, 1.1696895781038084, 1.1472317373512242, 1.1398433231382965, 1.1172694893760076, 1.1012448447475807, 1.1053838677908825, 1.1155037030955963, 1.1314918010652462, 1.1421385156682735, 1.1400557621855865, 1.1283899697127349, 1.1357595221346921, 1.1368997422112188, 1.1327305171564594, 1.128202832196573, 1.1124197021660818, 1.1061571763567795, 1.090795378179875, 1.0652016641338893, 1.0015310109320463, 0.938909188524292, 0.9564474813744361, 0.8781596899854289, 0.8949955377904892, 0.9016708620407954, 0.9422047448403381, 0.9798061576305743, 0.9821919446379832, 0.9838538415559541, 0.9969000239059544, 1.0037884764744427, 1.0099884805936539, 0.960261779351427, 0.9531158323950262, 1.1234821264550092, 1.1834009679165103, 1.1935376251037848, 1.170638796619496, 1.2252011333530977, 1.1752825460657341, 1.1550039094609996, 1.135859288105653, 1.1356311817472564, 1.1212410306078429, 1.1563373329446973, 1.1051018404939015, 1.085367087052596, 1.1397042522045204, 1.0668881256002152, 1.08931495110164, 1.1049593758797993, 1.0874521599394757, 1.104941872737859, 1.056146885982697, 1.039993376666218, 1.0373059423726763, 1.0388776206120929, 1.0342009090710604, 1.0313757306552402, 1.031166712489373, 1.0262033984949712, 1.0208638783899673, 1.0158459724953206, 0.9946154429072731, 0.9724190917190141, 0.9638816831551384, 0.9668471927736615, 0.9856165272461821, 0.9915267829147845, 0.9826893804988757, 0.9838122764296786, 0.98635951207193, 0.9778387724867468, 0.9820155246982627, 0.9851987406839964, 0.9762704683895134, 0.9789767538573617, 0.9826938820108704, 0.9909778699168275, 0.9967893535128383, 0.9984986468115853, 0.9890852491058841, 0.9832712271380291, 0.9929236285343497, 0.9921653164010111, 0.9917238351709732, 0.9974006296718549, 0.993507508544087, 0.9952675966925209, 1.0044618394494873, 1.015674510612024, 1.020258645555887, 1.0137035008422774, 1.0307421800392342, 1.0339552281609237, 1.0160703292757498, 1.0181733714628738, 1.0462972292494876, 1.071622511610986, 1.0781106758385235, 1.0730032413462727, 1.0921435932024899, 1.0932407401968245, 1.1235791003419973, 1.130376632661834, 1.1143593141490395, 1.1370921182911635, 1.1766007275823638, 1.2583847511815502, 1.2245360214913852, 1.2306465357552305, 1.2163408132901328, 1.2243709410280506, 1.2476390752032565, 1.2564536390547776, 1.2861895858324353, 1.3248262630569663, 1.299537192527385, 1.310298610554824, 1.3520841398724208, 1.4446792687419574, 1.3980699769040754, 1.363774294684081, 1.3346145767950297, 1.3310487395142836, 1.3254145656124123, 1.3444450330982631, 1.3368435460009263, 1.3318915272739986, 1.3373297521020684, 1.3361753038858106, 1.3330414226473224, 1.324717077053191, 1.3187031736347574, 1.3214934395626203, 1.3330259569545673, 1.3330589204180896, 1.3416970232304584, 1.3364014079463047, 1.2847032771492035, 1.307124925000812, 1.2542268220600405, 1.2756262430301, 1.2994972604082378, 1.3116546532975413, 1.2913675956513657, 1.2353504206804544, 1.2360361168301424, 1.2882486338771297, 1.2713968162381815, 1.260737586532061, 1.2668036131394649, 1.2843947371295785, 1.2880172355577257, 1.2924669202818917, 1.2901959363212598, 1.2934169956921693, 1.3058437698093937, 1.3160520062826908, 1.3229598635905804, 1.3368458044437959, 1.332782580830382, 1.3191447389129303, 1.3217402616245897, 1.3237476298067226, 1.327991976030497, 1.3286582618941232, 1.325518864889732, 1.3161994333466815, 1.3175601959032917, 1.3337765718819674]}, {\"line\": {\"color\": \"rgba(50, 171, 96, 1.0)\", \"dash\": \"solid\", \"shape\": \"linear\", \"width\": 1.3}, \"mode\": \"lines\", \"name\": \"google_trends_prediction\", \"text\": \"\", \"type\": \"scatter\", \"x\": [\"2004-01-01\", \"2004-02-01\", \"2004-03-01\", \"2004-04-01\", \"2004-05-01\", \"2004-06-01\", \"2004-07-01\", \"2004-08-01\", \"2004-09-01\", \"2004-10-01\", \"2004-11-01\", \"2004-12-01\", \"2005-01-01\", \"2005-02-01\", \"2005-03-01\", \"2005-04-01\", \"2005-05-01\", \"2005-06-01\", \"2005-07-01\", \"2005-08-01\", \"2005-09-01\", \"2005-10-01\", \"2005-11-01\", \"2005-12-01\", \"2006-01-01\", \"2006-02-01\", \"2006-03-01\", \"2006-04-01\", \"2006-05-01\", \"2006-06-01\", \"2006-07-01\", \"2006-08-01\", \"2006-09-01\", \"2006-10-01\", \"2006-11-01\", \"2006-12-01\", \"2007-01-01\", \"2007-02-01\", \"2007-03-01\", \"2007-04-01\", \"2007-05-01\", \"2007-06-01\", \"2007-07-01\", \"2007-08-01\", \"2007-09-01\", \"2007-10-01\", \"2007-11-01\", \"2007-12-01\", \"2008-01-01\", \"2008-02-01\", \"2008-03-01\", \"2008-04-01\", \"2008-05-01\", \"2008-06-01\", \"2008-07-01\", \"2008-08-01\", \"2008-09-01\", \"2008-10-01\", \"2008-11-01\", \"2008-12-01\", \"2009-01-01\", \"2009-02-01\", \"2009-03-01\", \"2009-04-01\", \"2009-05-01\", \"2009-06-01\", \"2009-07-01\", \"2009-08-01\", \"2009-09-01\", \"2009-10-01\", \"2009-11-01\", \"2009-12-01\", \"2010-01-01\", \"2010-02-01\", \"2010-03-01\", \"2010-04-01\", \"2010-05-01\", \"2010-06-01\", \"2010-07-01\", \"2010-08-01\", \"2010-09-01\", \"2010-10-01\", \"2010-11-01\", \"2010-12-01\", \"2011-01-01\", \"2011-02-01\", \"2011-03-01\", \"2011-04-01\", \"2011-05-01\", \"2011-06-01\", \"2011-07-01\", \"2011-08-01\", \"2011-09-01\", \"2011-10-01\", \"2011-11-01\", \"2011-12-01\", \"2012-01-01\", \"2012-02-01\", \"2012-03-01\", \"2012-04-01\", \"2012-05-01\", \"2012-06-01\", \"2012-07-01\", \"2012-08-01\", \"2012-09-01\", \"2012-10-01\", \"2012-11-01\", \"2012-12-01\", \"2013-01-01\", \"2013-02-01\", \"2013-03-01\", \"2013-04-01\", \"2013-05-01\", \"2013-06-01\", \"2013-07-01\", \"2013-08-01\", \"2013-09-01\", \"2013-10-01\", \"2013-11-01\", \"2013-12-01\", \"2014-01-01\", \"2014-02-01\", \"2014-03-01\", \"2014-04-01\", \"2014-05-01\", \"2014-06-01\", \"2014-07-01\", \"2014-08-01\", \"2014-09-01\", \"2014-10-01\", \"2014-11-01\", \"2014-12-01\", \"2015-01-01\", \"2015-02-01\", \"2015-03-01\", \"2015-04-01\", \"2015-05-01\", \"2015-06-01\", \"2015-07-01\", \"2015-08-01\", \"2015-09-01\", \"2015-10-01\", \"2015-11-01\", \"2015-12-01\", \"2016-01-01\", \"2016-02-01\", \"2016-03-01\", \"2016-04-01\", \"2016-05-01\", \"2016-06-01\", \"2016-07-01\", \"2016-08-01\", \"2016-09-01\", \"2016-10-01\", \"2016-11-01\", \"2016-12-01\", \"2017-01-01\", \"2017-02-01\", \"2017-03-01\", \"2017-04-01\", \"2017-05-01\", \"2017-06-01\", \"2017-07-01\", \"2017-08-01\", \"2017-09-01\", \"2017-10-01\", \"2017-11-01\", \"2017-12-01\", \"2018-01-01\", \"2018-02-01\", \"2018-03-01\", \"2018-04-01\", \"2018-05-01\", \"2018-06-01\", \"2018-07-01\", \"2018-08-01\", \"2018-09-01\", \"2018-10-01\", \"2018-11-01\", \"2018-12-01\", \"2019-01-01\", \"2019-02-01\", \"2019-03-01\", \"2019-04-01\", \"2019-05-01\", \"2019-06-01\", \"2019-07-01\", \"2019-08-01\", \"2019-09-01\", \"2019-10-01\", \"2019-11-01\", \"2019-12-01\", \"2020-01-01\", \"2020-02-01\", \"2020-03-01\", \"2020-04-01\", \"2020-05-01\"], \"y\": [\"\", \"\", \"\", \"\", \"\", \"\", \"\", \"\", \"\", \"\", \"\", \"\", \"\", 1.271943848221131, 1.299681436710858, 1.2713570740000355, 1.257434198314881, 1.3222521995244882, 1.2704917281441999, 1.2512774356644523, 1.2945462008229602, 1.2339972472467844, 1.220199575323521, 1.2194936322183858, 1.2242275009579031, 1.2283909924375203, 1.2013915110200248, 1.1991789791037386, 1.1942871084424223, 1.1845302697200144, 1.1698520649674449, 1.169136441756171, 1.1442748538600176, 1.151175520055944, 1.136611704405009, 1.1383488785404947, 1.1357510666563875, 1.1320383301190098, 1.136135834284943, 1.1363678404263418, 1.1383298071803363, 1.138142448224736, 1.1361827550286157, 1.1331192357014803, 1.124859322020654, 1.1132253180020482, 1.1029434999441183, 1.1232493311317793, 1.1246962211203881, 1.0907610195358224, 1.0880023132785006, 1.0989204019102732, 1.0778831874926607, 1.0224142836273473, 1.0139837024751406, 1.0099954771215085, 1.0067292744382432, 1.0053609099659664, 1.006090738127845, 1.017692175662197, 1.0597706434458933, 1.0694788733914338, 1.1065767545944643, 1.162834713533638, 1.202814987774317, 1.1616556466329717, 1.1595744705929398, 1.145665351230948, 1.1230875412413155, 1.1793164879983635, 1.1312845849772133, 1.1632566938997009, 1.1545712298667203, 1.1782998796436006, 1.0848402437190112, 1.0623378739566782, 1.0795302404938203, 1.063060029093785, 1.0564724895845352, 1.0433648572657692, 1.0421910986043268, 1.0277466140822171, 1.037905318835973, 1.0373413818547839, 1.0555025737892247, 1.044782780890955, 1.0248982949653498, 1.0036240733348778, 1.0093264625564187, 0.9709839496326662, 1.0055515170722313, 1.0174101493876482, 0.9933581264574844, 0.9801213617388969, 0.9858587844197102, 0.9836676987626772, 0.986971488619943, 0.995412468743109, 0.9953183292560971, 0.9879499293897936, 0.9958764164479731, 1.000585345384912, 1.0005775935877559, 1.0016167516357042, 1.0024868700783247, 1.0089939385381113, 1.003690218094457, 1.0053635712300069, 0.9950336453637814, 0.9996745500777451, 0.9975946268094751, 0.9870170715178876, 0.9768552737829291, 1.0116134191955684, 0.9945640318033924, 0.9928114796933007, 1.005721154432424, 1.0117979224497256, 1.014637490441346, 1.026655452087558, 1.0270056424441105, 1.0353447807998577, 1.0508529306210135, 1.072861167024993, 1.0727186853298034, 1.0725988350025972, 1.0820798330709345, 1.1102360798663542, 1.0785742222535872, 1.0969662442699795, 1.1031515571965622, 1.132473846740593, 1.1341277512980135, 1.1407731369519858, 1.140536679813139, 1.1497370712290071, 1.1384035470974065, 1.1266058226178235, 1.1285977444551887, 1.2036497444775025, 1.1841165517011008, 1.205858130142478, 1.2283243880207402, 1.23563027880916, 1.233061186304821, 1.2707448359941729, 1.303175332665793, 1.3176832222625752, 1.2789471784992124, 1.2625881829367183, 1.231104343638254, 1.3530698440181632, 1.3214083242867725, 1.2918871547234598, 1.2975589479151795, 1.2995209257703628, 1.294408126922553, 1.2833698166196437, 1.3092956842269916, 1.3104480082823926, 1.3225852043985127, 1.3232184346046474, 1.3283274153451816, 1.3209409416912152, 1.32014053922397, 1.3264011400333289, 1.2888225561483608, 1.3264013881107581, 1.3018916878722187, 1.312585143998352, 1.2884919040692258, 1.2707441565416167, 1.2734021452693514, 1.2822234424208052, 1.2672306190871385, 1.2620711365733361, 1.2732117227148436, 1.2785991098004408, 1.2905207692824898, 1.2875927410123567, 1.2791797326567846, 1.2876351680378932, 1.302934438803293, 1.2889409808740402, 1.3046855555815422, 1.3190657189661636, 1.3221376866500159, 1.3231902262995154, 1.3236704555606547, 1.3217485858215667, 1.32316184270393, 1.3218355609269192, 1.3229622399160192, 1.3226669441447811, 1.363511464693018, 1.3223031667822043, 1.3268318459348754]}],                        {\"legend\": {\"bgcolor\": \"#F5F6F9\", \"font\": {\"color\": \"#4D5663\"}}, \"paper_bgcolor\": \"#F5F6F9\", \"plot_bgcolor\": \"#F5F6F9\", \"template\": {\"data\": {\"bar\": [{\"error_x\": {\"color\": \"#2a3f5f\"}, \"error_y\": {\"color\": \"#2a3f5f\"}, \"marker\": {\"line\": {\"color\": \"#E5ECF6\", \"width\": 0.5}}, \"type\": \"bar\"}], \"barpolar\": [{\"marker\": {\"line\": {\"color\": \"#E5ECF6\", \"width\": 0.5}}, \"type\": \"barpolar\"}], \"carpet\": [{\"aaxis\": {\"endlinecolor\": \"#2a3f5f\", \"gridcolor\": \"white\", \"linecolor\": \"white\", \"minorgridcolor\": \"white\", \"startlinecolor\": \"#2a3f5f\"}, \"baxis\": {\"endlinecolor\": \"#2a3f5f\", \"gridcolor\": \"white\", \"linecolor\": \"white\", \"minorgridcolor\": \"white\", \"startlinecolor\": \"#2a3f5f\"}, \"type\": \"carpet\"}], \"choropleth\": [{\"colorbar\": {\"outlinewidth\": 0, \"ticks\": \"\"}, \"type\": \"choropleth\"}], \"contour\": [{\"colorbar\": {\"outlinewidth\": 0, \"ticks\": \"\"}, \"colorscale\": [[0.0, \"#0d0887\"], [0.1111111111111111, \"#46039f\"], [0.2222222222222222, \"#7201a8\"], [0.3333333333333333, \"#9c179e\"], [0.4444444444444444, \"#bd3786\"], [0.5555555555555556, \"#d8576b\"], [0.6666666666666666, \"#ed7953\"], [0.7777777777777778, \"#fb9f3a\"], [0.8888888888888888, \"#fdca26\"], [1.0, \"#f0f921\"]], \"type\": \"contour\"}], \"contourcarpet\": [{\"colorbar\": {\"outlinewidth\": 0, \"ticks\": \"\"}, \"type\": \"contourcarpet\"}], \"heatmap\": [{\"colorbar\": {\"outlinewidth\": 0, \"ticks\": \"\"}, \"colorscale\": [[0.0, \"#0d0887\"], [0.1111111111111111, \"#46039f\"], [0.2222222222222222, \"#7201a8\"], [0.3333333333333333, \"#9c179e\"], [0.4444444444444444, \"#bd3786\"], [0.5555555555555556, \"#d8576b\"], [0.6666666666666666, \"#ed7953\"], [0.7777777777777778, \"#fb9f3a\"], [0.8888888888888888, \"#fdca26\"], [1.0, \"#f0f921\"]], \"type\": \"heatmap\"}], \"heatmapgl\": [{\"colorbar\": {\"outlinewidth\": 0, \"ticks\": \"\"}, \"colorscale\": [[0.0, \"#0d0887\"], [0.1111111111111111, \"#46039f\"], [0.2222222222222222, \"#7201a8\"], [0.3333333333333333, \"#9c179e\"], [0.4444444444444444, \"#bd3786\"], [0.5555555555555556, \"#d8576b\"], [0.6666666666666666, \"#ed7953\"], [0.7777777777777778, \"#fb9f3a\"], [0.8888888888888888, \"#fdca26\"], [1.0, \"#f0f921\"]], \"type\": \"heatmapgl\"}], \"histogram\": [{\"marker\": {\"colorbar\": {\"outlinewidth\": 0, \"ticks\": \"\"}}, \"type\": \"histogram\"}], \"histogram2d\": [{\"colorbar\": {\"outlinewidth\": 0, \"ticks\": \"\"}, \"colorscale\": [[0.0, \"#0d0887\"], [0.1111111111111111, \"#46039f\"], [0.2222222222222222, \"#7201a8\"], [0.3333333333333333, \"#9c179e\"], [0.4444444444444444, \"#bd3786\"], [0.5555555555555556, \"#d8576b\"], [0.6666666666666666, \"#ed7953\"], [0.7777777777777778, \"#fb9f3a\"], [0.8888888888888888, \"#fdca26\"], [1.0, \"#f0f921\"]], \"type\": \"histogram2d\"}], \"histogram2dcontour\": [{\"colorbar\": {\"outlinewidth\": 0, \"ticks\": \"\"}, \"colorscale\": [[0.0, \"#0d0887\"], [0.1111111111111111, \"#46039f\"], [0.2222222222222222, \"#7201a8\"], [0.3333333333333333, \"#9c179e\"], [0.4444444444444444, \"#bd3786\"], [0.5555555555555556, \"#d8576b\"], [0.6666666666666666, \"#ed7953\"], [0.7777777777777778, \"#fb9f3a\"], [0.8888888888888888, \"#fdca26\"], [1.0, \"#f0f921\"]], \"type\": \"histogram2dcontour\"}], \"mesh3d\": [{\"colorbar\": {\"outlinewidth\": 0, \"ticks\": \"\"}, \"type\": \"mesh3d\"}], \"parcoords\": [{\"line\": {\"colorbar\": {\"outlinewidth\": 0, \"ticks\": \"\"}}, \"type\": \"parcoords\"}], \"pie\": [{\"automargin\": true, \"type\": \"pie\"}], \"scatter\": [{\"marker\": {\"colorbar\": {\"outlinewidth\": 0, \"ticks\": \"\"}}, \"type\": \"scatter\"}], \"scatter3d\": [{\"line\": {\"colorbar\": {\"outlinewidth\": 0, \"ticks\": \"\"}}, \"marker\": {\"colorbar\": {\"outlinewidth\": 0, \"ticks\": \"\"}}, \"type\": \"scatter3d\"}], \"scattercarpet\": [{\"marker\": {\"colorbar\": {\"outlinewidth\": 0, \"ticks\": \"\"}}, \"type\": \"scattercarpet\"}], \"scattergeo\": [{\"marker\": {\"colorbar\": {\"outlinewidth\": 0, \"ticks\": \"\"}}, \"type\": \"scattergeo\"}], \"scattergl\": [{\"marker\": {\"colorbar\": {\"outlinewidth\": 0, \"ticks\": \"\"}}, \"type\": \"scattergl\"}], \"scattermapbox\": [{\"marker\": {\"colorbar\": {\"outlinewidth\": 0, \"ticks\": \"\"}}, \"type\": \"scattermapbox\"}], \"scatterpolar\": [{\"marker\": {\"colorbar\": {\"outlinewidth\": 0, \"ticks\": \"\"}}, \"type\": \"scatterpolar\"}], \"scatterpolargl\": [{\"marker\": {\"colorbar\": {\"outlinewidth\": 0, \"ticks\": \"\"}}, \"type\": \"scatterpolargl\"}], \"scatterternary\": [{\"marker\": {\"colorbar\": {\"outlinewidth\": 0, \"ticks\": \"\"}}, \"type\": \"scatterternary\"}], \"surface\": [{\"colorbar\": {\"outlinewidth\": 0, \"ticks\": \"\"}, \"colorscale\": [[0.0, \"#0d0887\"], [0.1111111111111111, \"#46039f\"], [0.2222222222222222, \"#7201a8\"], [0.3333333333333333, \"#9c179e\"], [0.4444444444444444, \"#bd3786\"], [0.5555555555555556, \"#d8576b\"], [0.6666666666666666, \"#ed7953\"], [0.7777777777777778, \"#fb9f3a\"], [0.8888888888888888, \"#fdca26\"], [1.0, \"#f0f921\"]], \"type\": \"surface\"}], \"table\": [{\"cells\": {\"fill\": {\"color\": \"#EBF0F8\"}, \"line\": {\"color\": \"white\"}}, \"header\": {\"fill\": {\"color\": \"#C8D4E3\"}, \"line\": {\"color\": \"white\"}}, \"type\": \"table\"}]}, \"layout\": {\"annotationdefaults\": {\"arrowcolor\": \"#2a3f5f\", \"arrowhead\": 0, \"arrowwidth\": 1}, \"coloraxis\": {\"colorbar\": {\"outlinewidth\": 0, \"ticks\": \"\"}}, \"colorscale\": {\"diverging\": [[0, \"#8e0152\"], [0.1, \"#c51b7d\"], [0.2, \"#de77ae\"], [0.3, \"#f1b6da\"], [0.4, \"#fde0ef\"], [0.5, \"#f7f7f7\"], [0.6, \"#e6f5d0\"], [0.7, \"#b8e186\"], [0.8, \"#7fbc41\"], [0.9, \"#4d9221\"], [1, \"#276419\"]], \"sequential\": [[0.0, \"#0d0887\"], [0.1111111111111111, \"#46039f\"], [0.2222222222222222, \"#7201a8\"], [0.3333333333333333, \"#9c179e\"], [0.4444444444444444, \"#bd3786\"], [0.5555555555555556, \"#d8576b\"], [0.6666666666666666, \"#ed7953\"], [0.7777777777777778, \"#fb9f3a\"], [0.8888888888888888, \"#fdca26\"], [1.0, \"#f0f921\"]], \"sequentialminus\": [[0.0, \"#0d0887\"], [0.1111111111111111, \"#46039f\"], [0.2222222222222222, \"#7201a8\"], [0.3333333333333333, \"#9c179e\"], [0.4444444444444444, \"#bd3786\"], [0.5555555555555556, \"#d8576b\"], [0.6666666666666666, \"#ed7953\"], [0.7777777777777778, \"#fb9f3a\"], [0.8888888888888888, \"#fdca26\"], [1.0, \"#f0f921\"]]}, \"colorway\": [\"#636efa\", \"#EF553B\", \"#00cc96\", \"#ab63fa\", \"#FFA15A\", \"#19d3f3\", \"#FF6692\", \"#B6E880\", \"#FF97FF\", \"#FECB52\"], \"font\": {\"color\": \"#2a3f5f\"}, \"geo\": {\"bgcolor\": \"white\", \"lakecolor\": \"white\", \"landcolor\": \"#E5ECF6\", \"showlakes\": true, \"showland\": true, \"subunitcolor\": \"white\"}, \"hoverlabel\": {\"align\": \"left\"}, \"hovermode\": \"closest\", \"mapbox\": {\"style\": \"light\"}, \"paper_bgcolor\": \"white\", \"plot_bgcolor\": \"#E5ECF6\", \"polar\": {\"angularaxis\": {\"gridcolor\": \"white\", \"linecolor\": \"white\", \"ticks\": \"\"}, \"bgcolor\": \"#E5ECF6\", \"radialaxis\": {\"gridcolor\": \"white\", \"linecolor\": \"white\", \"ticks\": \"\"}}, \"scene\": {\"xaxis\": {\"backgroundcolor\": \"#E5ECF6\", \"gridcolor\": \"white\", \"gridwidth\": 2, \"linecolor\": \"white\", \"showbackground\": true, \"ticks\": \"\", \"zerolinecolor\": \"white\"}, \"yaxis\": {\"backgroundcolor\": \"#E5ECF6\", \"gridcolor\": \"white\", \"gridwidth\": 2, \"linecolor\": \"white\", \"showbackground\": true, \"ticks\": \"\", \"zerolinecolor\": \"white\"}, \"zaxis\": {\"backgroundcolor\": \"#E5ECF6\", \"gridcolor\": \"white\", \"gridwidth\": 2, \"linecolor\": \"white\", \"showbackground\": true, \"ticks\": \"\", \"zerolinecolor\": \"white\"}}, \"shapedefaults\": {\"line\": {\"color\": \"#2a3f5f\"}}, \"ternary\": {\"aaxis\": {\"gridcolor\": \"white\", \"linecolor\": \"white\", \"ticks\": \"\"}, \"baxis\": {\"gridcolor\": \"white\", \"linecolor\": \"white\", \"ticks\": \"\"}, \"bgcolor\": \"#E5ECF6\", \"caxis\": {\"gridcolor\": \"white\", \"linecolor\": \"white\", \"ticks\": \"\"}}, \"title\": {\"x\": 0.05}, \"xaxis\": {\"automargin\": true, \"gridcolor\": \"white\", \"linecolor\": \"white\", \"ticks\": \"\", \"title\": {\"standoff\": 15}, \"zerolinecolor\": \"white\", \"zerolinewidth\": 2}, \"yaxis\": {\"automargin\": true, \"gridcolor\": \"white\", \"linecolor\": \"white\", \"ticks\": \"\", \"title\": {\"standoff\": 15}, \"zerolinecolor\": \"white\", \"zerolinewidth\": 2}}}, \"title\": {\"font\": {\"color\": \"#4D5663\"}}, \"xaxis\": {\"gridcolor\": \"#E1E5ED\", \"showgrid\": true, \"tickfont\": {\"color\": \"#4D5663\"}, \"title\": {\"font\": {\"color\": \"#4D5663\"}, \"text\": \"\"}, \"zerolinecolor\": \"#E1E5ED\"}, \"yaxis\": {\"gridcolor\": \"#E1E5ED\", \"showgrid\": true, \"tickfont\": {\"color\": \"#4D5663\"}, \"title\": {\"font\": {\"color\": \"#4D5663\"}, \"text\": \"\"}, \"zerolinecolor\": \"#E1E5ED\"}},                        {\"showLink\": true, \"linkText\": \"Export to plot.ly\", \"plotlyServerURL\": \"https://plot.ly\", \"responsive\": true}                    ).then(function(){\n",
       "                            \n",
       "var gd = document.getElementById('35038fa5-7a5b-400a-aecc-87d4d7f6aa3f');\n",
       "var x = new MutationObserver(function (mutations, observer) {{\n",
       "        var display = window.getComputedStyle(gd).display;\n",
       "        if (!display || display === 'none') {{\n",
       "            console.log([gd, 'removed!']);\n",
       "            Plotly.purge(gd);\n",
       "            observer.disconnect();\n",
       "        }}\n",
       "}});\n",
       "\n",
       "// Listen for the removal of the full notebook cells\n",
       "var notebookContainer = gd.closest('#notebook-container');\n",
       "if (notebookContainer) {{\n",
       "    x.observe(notebookContainer, {childList: true});\n",
       "}}\n",
       "\n",
       "// Listen for the clearing of the current output cell\n",
       "var outputEl = gd.closest('.output');\n",
       "if (outputEl) {{\n",
       "    x.observe(outputEl, {childList: true});\n",
       "}}\n",
       "\n",
       "                        })                };                });            </script>        </div>"
      ]
     },
     "metadata": {},
     "output_type": "display_data"
    }
   ],
   "source": [
    "df[['actual_exr','macro_prediction','google_trends_prediction']].iplot()"
   ]
  },
  {
   "cell_type": "markdown",
   "metadata": {},
   "source": [
    "<h2> Some graphical analysis </h2>"
   ]
  },
  {
   "cell_type": "code",
   "execution_count": 13,
   "metadata": {},
   "outputs": [
    {
     "data": {
      "application/vnd.plotly.v1+json": {
       "config": {
        "plotlyServerURL": "https://plot.ly"
       },
       "data": [
        {
         "hovertemplate": "can/usa_priceTerm=%{x}<br>actual_exr=%{y}<extra></extra>",
         "legendgroup": "",
         "marker": {
          "color": "#636efa",
          "symbol": "circle"
         },
         "mode": "markers",
         "name": "",
         "orientation": "v",
         "showlegend": false,
         "type": "scatter",
         "x": [
          0.6417910447761194,
          0.5692307692307692,
          0.6756756756756757,
          0.7428571428571429,
          0.7816091954022989,
          0.6666666666666666,
          0.6428571428571429,
          0.765625,
          0.711864406779661,
          0.6774193548387096,
          0.640625,
          0.6666666666666666,
          0.7272727272727273,
          0.5818181818181818,
          0.7076923076923077,
          0.6571428571428571,
          0.65,
          0.8,
          0.734375,
          0.6989247311827957,
          1,
          0.746031746031746,
          0.7377049180327869,
          0.7017543859649122,
          0.6724137931034483,
          0.6071428571428571,
          0.7636363636363637,
          0.6533333333333333,
          0.6865671641791045,
          0.7017543859649122,
          0.7049180327868853,
          0.7857142857142857,
          0.6129032258064516,
          0.7636363636363637,
          0.6363636363636364,
          0.68,
          0.660377358490566,
          0.7551020408163265,
          0.6851851851851852,
          0.6491228070175439,
          0.7121212121212122,
          0.6727272727272727,
          0.7090909090909091,
          0.7254901960784313,
          0.74,
          0.76,
          0.7288135593220338,
          0.6730769230769231,
          0.6727272727272727,
          0.6851851851851852,
          0.6323529411764706,
          0.6388888888888888,
          0.575,
          0.6753246753246753,
          0.6666666666666666,
          0.6825396825396826,
          0.6973684210526315,
          0.6904761904761905,
          0.7012987012987013,
          0.6338028169014085,
          0.6774193548387096,
          0.6666666666666666,
          0.6885245901639344,
          0.7142857142857143,
          0.7333333333333333,
          0.6885245901639344,
          0.75,
          0.7894736842105263,
          0.7592592592592593,
          0.7017543859649122,
          0.75,
          0.7142857142857143,
          0.7142857142857143,
          0.6909090909090909,
          0.7592592592592593,
          0.8148148148148148,
          0.7857142857142857,
          0.7678571428571429,
          0.7636363636363637,
          0.8269230769230769,
          0.7916666666666666,
          0.8297872340425532,
          0.7692307692307693,
          0.7692307692307693,
          0.6774193548387096,
          0.703125,
          0.6438356164383562,
          0.7012987012987013,
          0.7368421052631579,
          0.6428571428571429,
          0.746268656716418,
          0.7857142857142857,
          0.734375,
          0.6935483870967742,
          0.7241379310344828,
          0.6779661016949152,
          0.6949152542372882,
          0.6119402985074627,
          0.6470588235294118,
          0.746031746031746,
          0.671875,
          0.6571428571428571,
          0.6811594202898551,
          0.7096774193548387,
          0.7540983606557377,
          0.7142857142857143,
          0.7241379310344828,
          0.6842105263157895,
          0.7321428571428571,
          0.6896551724137931,
          0.6949152542372882,
          0.7457627118644068,
          0.7666666666666667,
          0.676923076923077,
          0.7777777777777778,
          0.7966101694915254,
          0.7090909090909091,
          0.7358490566037735,
          0.7222222222222222,
          0.7647058823529411,
          0.7454545454545455,
          0.7678571428571429,
          0.8,
          0.8571428571428571,
          0.8035714285714286,
          0.7931034482758621,
          0.8032786885245902,
          0.8727272727272727,
          0.7884615384615384,
          0.8363636363636363,
          0.8571428571428571,
          0.9701492537313433,
          0.9861111111111112,
          0.967741935483871,
          0.9032258064516129,
          0.8983050847457628,
          0.8688524590163934,
          0.8412698412698413,
          0.8333333333333334,
          0.9333333333333333,
          0.8615384615384616,
          0.8793103448275862,
          0.8771929824561403,
          0.9354838709677419,
          0.9571428571428572,
          0.9714285714285714,
          0.9090909090909091,
          0.9076923076923077,
          0.8636363636363636,
          0.8428571428571429,
          0.7916666666666666,
          0.9333333333333333,
          0.8813559322033898,
          0.8275862068965517,
          0.8448275862068966,
          0.8333333333333334,
          0.8095238095238095,
          0.7619047619047619,
          0.8095238095238095,
          0.859375,
          0.7846153846153846,
          0.7681159420289855,
          0.7916666666666666,
          0.8823529411764706,
          0.8888888888888888,
          0.7796610169491526,
          0.8793103448275862,
          0.7580645161290323,
          0.8225806451612904,
          0.765625,
          0.8253968253968254,
          0.8923076923076924,
          0.8676470588235294,
          0.803030303030303,
          0.855072463768116,
          0.9354838709677419,
          0.8448275862068966,
          0.8596491228070176,
          0.8793103448275862,
          0.847457627118644,
          0.7833333333333333,
          0.8070175438596491,
          0.8333333333333334,
          0.9508196721311475,
          0.8813559322033898,
          0.803030303030303,
          0.8181818181818182,
          0.8852459016393442,
          0.8421052631578947,
          0.7962962962962963,
          0.7884615384615384,
          0.7692307692307693,
          0.7818181818181819,
          0.7931034482758621,
          1.09375,
          0.8032786885245902,
          0.8333333333333334
         ],
         "xaxis": "x",
         "y": [
          1.295755,
          1.3298947368421052,
          1.328578260869565,
          1.341972727272727,
          1.37886,
          1.3578409090909092,
          1.322504761904762,
          1.3126772727272729,
          1.288095238095238,
          1.246935,
          1.19677,
          1.2188826086956521,
          1.224835,
          1.2400526315789473,
          1.2160260869565216,
          1.2359,
          1.2555285714285713,
          1.2401681818181818,
          1.222855,
          1.2042826086956522,
          1.1776809523809524,
          1.177415,
          1.181545,
          1.1614809523809524,
          1.157165,
          1.1488947368421052,
          1.157308695652174,
          1.144105,
          1.1099909090909093,
          1.113727272727273,
          1.129445,
          1.118213043478261,
          1.11612,
          1.1285380952380952,
          1.1358809523809523,
          1.153235,
          1.1762619047619047,
          1.1709894736842104,
          1.1681590909090909,
          1.1349857142857145,
          1.0950863636363637,
          1.065104761904762,
          1.0501857142857145,
          1.0578521739130435,
          1.026745,
          0.9754130434782609,
          0.9672380952380952,
          1.00207,
          1.0099428571428573,
          0.998555,
          1.0029428571428571,
          1.0137181818181817,
          0.9993047619047618,
          1.0166238095238094,
          1.0129636363636365,
          1.0534571428571429,
          1.058204761904762,
          1.1846954545454544,
          1.2170944444444445,
          1.2336954545454544,
          1.22482,
          1.2452,
          1.2645181818181819,
          1.2241818181818183,
          1.152785,
          1.1263545454545456,
          1.1228608695652174,
          1.0872380952380951,
          1.0816380952380953,
          1.0546761904761903,
          1.0593,
          1.0536909090909092,
          1.0438105263157895,
          1.0572105263157896,
          1.0229,
          1.0052090909090907,
          1.04028,
          1.0376227272727272,
          1.0422285714285715,
          1.0403954545454543,
          1.032957142857143,
          1.0179,
          1.0129,
          1.0080619047619048,
          0.993945,
          0.9876368421052631,
          0.9765608695652174,
          0.9579523809523808,
          0.9680428571428572,
          0.9766454545454544,
          0.955315,
          0.981708695652174,
          1.0025,
          1.0198,
          1.024755,
          1.0235238095238095,
          1.012985,
          0.996745,
          0.9937727272727273,
          0.9928238095238094,
          1.009731818181818,
          1.028,
          1.0142,
          0.9923826086956518,
          0.9783,
          0.9871545454545454,
          0.99697,
          0.98982,
          0.9920571428571427,
          1.0097842105263155,
          1.0244238095238094,
          1.0186727272727272,
          1.0195590909090908,
          1.0314,
          1.0402136363636365,
          1.0407181818181819,
          1.034235,
          1.036281818181818,
          1.048642105263158,
          1.0639190476190477,
          1.0940095238095238,
          1.105442105263158,
          1.1106809523809524,
          1.0992090909090908,
          1.0893857142857144,
          1.0830380952380951,
          1.0739181818181818,
          1.0926333333333331,
          1.101052380952381,
          1.1211545454545455,
          1.1325388888888888,
          1.1531619047619048,
          1.21219,
          1.2499052631578949,
          1.2618318181818182,
          1.233681818181818,
          1.21764,
          1.2364954545454545,
          1.2863136363636365,
          1.3147238095238096,
          1.3265809523809524,
          1.3072238095238096,
          1.3278526315789474,
          1.3712545454545455,
          1.4208105263157895,
          1.37969,
          1.3226391304347827,
          1.2818142857142856,
          1.2945285714285715,
          1.2894045454545455,
          1.305235,
          1.299782608695652,
          1.3107761904761903,
          1.325095,
          1.343415,
          1.3339190476190477,
          1.3183052631578949,
          1.3109157894736843,
          1.3387,
          1.343705,
          1.3605727272727273,
          1.3294863636363636,
          1.26904,
          1.2607695652173911,
          1.227875,
          1.2606904761904763,
          1.277335,
          1.27687,
          1.242904761904762,
          1.2588210526315788,
          1.2932545454545457,
          1.2731619047619047,
          1.2866272727272727,
          1.312452380952381,
          1.3133428571428571,
          1.3042478260869563,
          1.3034,
          1.3004409090909093,
          1.32048,
          1.343611111111111,
          1.330045,
          1.3208722222222222,
          1.337052380952381,
          1.3378136363636364,
          1.3459772727272727,
          1.32887,
          1.3105227272727271,
          1.3273136363636364,
          1.32405,
          1.3189227272727273,
          1.323657894736842,
          1.316895238095238,
          1.3089095238095239,
          1.3286368421052632,
          1.3960227272727272,
          1.4047954545454544,
          1.3972
         ],
         "yaxis": "y"
        },
        {
         "hovertemplate": "<b>OLS trendline</b><br>actual_exr = 0.702366 * can/usa_priceTerm + 0.631293<br>R<sup>2</sup>=0.239333<br><br>can/usa_priceTerm=%{x}<br>actual_exr=%{y} <b>(trend)</b><extra></extra>",
         "legendgroup": "",
         "marker": {
          "color": "#636efa",
          "symbol": "circle"
         },
         "mode": "lines",
         "name": "",
         "showlegend": false,
         "type": "scatter",
         "x": [
          0.5692307692307692,
          0.575,
          0.5818181818181818,
          0.6071428571428571,
          0.6119402985074627,
          0.6129032258064516,
          0.6323529411764706,
          0.6338028169014085,
          0.6363636363636364,
          0.6388888888888888,
          0.640625,
          0.6417910447761194,
          0.6428571428571429,
          0.6428571428571429,
          0.6438356164383562,
          0.6470588235294118,
          0.6491228070175439,
          0.65,
          0.6533333333333333,
          0.6571428571428571,
          0.6571428571428571,
          0.660377358490566,
          0.6666666666666666,
          0.6666666666666666,
          0.6666666666666666,
          0.6666666666666666,
          0.671875,
          0.6724137931034483,
          0.6727272727272727,
          0.6727272727272727,
          0.6730769230769231,
          0.6753246753246753,
          0.6756756756756757,
          0.676923076923077,
          0.6774193548387096,
          0.6774193548387096,
          0.6774193548387096,
          0.6779661016949152,
          0.68,
          0.6811594202898551,
          0.6825396825396826,
          0.6842105263157895,
          0.6851851851851852,
          0.6851851851851852,
          0.6865671641791045,
          0.6885245901639344,
          0.6885245901639344,
          0.6896551724137931,
          0.6904761904761905,
          0.6909090909090909,
          0.6935483870967742,
          0.6949152542372882,
          0.6949152542372882,
          0.6973684210526315,
          0.6989247311827957,
          0.7012987012987013,
          0.7012987012987013,
          0.7017543859649122,
          0.7017543859649122,
          0.7017543859649122,
          0.703125,
          0.7049180327868853,
          0.7076923076923077,
          0.7090909090909091,
          0.7090909090909091,
          0.7096774193548387,
          0.711864406779661,
          0.7121212121212122,
          0.7142857142857143,
          0.7142857142857143,
          0.7142857142857143,
          0.7142857142857143,
          0.7222222222222222,
          0.7241379310344828,
          0.7241379310344828,
          0.7254901960784313,
          0.7272727272727273,
          0.7288135593220338,
          0.7321428571428571,
          0.7333333333333333,
          0.734375,
          0.734375,
          0.7358490566037735,
          0.7368421052631579,
          0.7377049180327869,
          0.74,
          0.7428571428571429,
          0.7454545454545455,
          0.7457627118644068,
          0.746031746031746,
          0.746031746031746,
          0.746268656716418,
          0.75,
          0.75,
          0.7540983606557377,
          0.7551020408163265,
          0.7580645161290323,
          0.7592592592592593,
          0.7592592592592593,
          0.76,
          0.7619047619047619,
          0.7636363636363637,
          0.7636363636363637,
          0.7636363636363637,
          0.7647058823529411,
          0.765625,
          0.765625,
          0.7666666666666667,
          0.7678571428571429,
          0.7678571428571429,
          0.7681159420289855,
          0.7692307692307693,
          0.7692307692307693,
          0.7692307692307693,
          0.7777777777777778,
          0.7796610169491526,
          0.7816091954022989,
          0.7818181818181819,
          0.7833333333333333,
          0.7846153846153846,
          0.7857142857142857,
          0.7857142857142857,
          0.7857142857142857,
          0.7884615384615384,
          0.7884615384615384,
          0.7894736842105263,
          0.7916666666666666,
          0.7916666666666666,
          0.7916666666666666,
          0.7931034482758621,
          0.7931034482758621,
          0.7962962962962963,
          0.7966101694915254,
          0.8,
          0.8,
          0.803030303030303,
          0.803030303030303,
          0.8032786885245902,
          0.8032786885245902,
          0.8035714285714286,
          0.8070175438596491,
          0.8095238095238095,
          0.8095238095238095,
          0.8148148148148148,
          0.8181818181818182,
          0.8225806451612904,
          0.8253968253968254,
          0.8269230769230769,
          0.8275862068965517,
          0.8297872340425532,
          0.8333333333333334,
          0.8333333333333334,
          0.8333333333333334,
          0.8333333333333334,
          0.8363636363636363,
          0.8412698412698413,
          0.8421052631578947,
          0.8428571428571429,
          0.8448275862068966,
          0.8448275862068966,
          0.847457627118644,
          0.855072463768116,
          0.8571428571428571,
          0.8571428571428571,
          0.859375,
          0.8596491228070176,
          0.8615384615384616,
          0.8636363636363636,
          0.8676470588235294,
          0.8688524590163934,
          0.8727272727272727,
          0.8771929824561403,
          0.8793103448275862,
          0.8793103448275862,
          0.8793103448275862,
          0.8813559322033898,
          0.8813559322033898,
          0.8823529411764706,
          0.8852459016393442,
          0.8888888888888888,
          0.8923076923076924,
          0.8983050847457628,
          0.9032258064516129,
          0.9076923076923077,
          0.9090909090909091,
          0.9333333333333333,
          0.9333333333333333,
          0.9354838709677419,
          0.9354838709677419,
          0.9508196721311475,
          0.9571428571428572,
          0.967741935483871,
          0.9701492537313433,
          0.9714285714285714,
          0.9861111111111112,
          1,
          1.09375
         ],
         "xaxis": "x",
         "y": [
          1.0311017512022955,
          1.0351538632835577,
          1.0399427230159588,
          1.0577299163077338,
          1.061099476460596,
          1.061775803946475,
          1.0754366245619897,
          1.0764549681118236,
          1.0782536008751666,
          1.0800272526279078,
          1.0812466382079173,
          1.0820656285228492,
          1.0828144196679297,
          1.0828144196679297,
          1.0835016663353323,
          1.0857655377103055,
          1.0872152097311218,
          1.0878313203399688,
          1.090172540653587,
          1.0928482210120078,
          1.0928482210120078,
          1.0951200250899125,
          1.09953742190806,
          1.09953742190806,
          1.09953742190806,
          1.09953742190806,
          1.1031955786480885,
          1.1035740086556778,
          1.1037941861146388,
          1.1037941861146388,
          1.1040397686650183,
          1.1056185136317438,
          1.1058650443772986,
          1.1067411767191933,
          1.107089745500377,
          1.107089745500377,
          1.107089745500377,
          1.1074737619542236,
          1.1089023031625331,
          1.109716640662922,
          1.110686090068147,
          1.1118596340849982,
          1.1125442014281615,
          1.1125442014281615,
          1.1135148566162287,
          1.1148896862596551,
          1.1148896862596551,
          1.1156837688985308,
          1.1162604241481904,
          1.1165644787343747,
          1.1184182308888526,
          1.119378272023469,
          1.119378272023469,
          1.1211012932177018,
          1.122194392685011,
          1.1238617888027953,
          1.1238617888027953,
          1.1241818462619364,
          1.1241818462619364,
          1.1241818462619364,
          1.1251445190882596,
          1.1264038845233515,
          1.1283524411525925,
          1.1293347713541106,
          1.1293347713541106,
          1.129746716277328,
          1.1312827820927145,
          1.1314631534574,
          1.132983426388321,
          1.132983426388321,
          1.132983426388321,
          1.132983426388321,
          1.1385577604683643,
          1.139903289384237,
          1.139903289384237,
          1.1408530745013234,
          1.1421050639738466,
          1.1431872921619597,
          1.1455256780684189,
          1.1463618281804253,
          1.147093459528431,
          1.147093459528431,
          1.1481287869076842,
          1.148826270615813,
          1.1494322810507445,
          1.1510442688076616,
          1.1530510290764775,
          1.1548753565935828,
          1.1550918022312051,
          1.155280762708495,
          1.155280762708495,
          1.155447160740735,
          1.1580679297485166,
          1.1580679297485166,
          1.1609464793144406,
          1.1616514302285443,
          1.1637321724427543,
          1.1645713195085672,
          1.1645713195085672,
          1.1650915906893715,
          1.1664294308685816,
          1.1676456492133185,
          1.1676456492133185,
          1.1676456492133185,
          1.1683968428968323,
          1.1690423999686022,
          1.1690423999686022,
          1.1697740313166078,
          1.1706101814286143,
          1.1706101814286143,
          1.170791953192094,
          1.1715749700193911,
          1.1715749700193911,
          1.1715749700193911,
          1.1775780990286688,
          1.178900822369696,
          1.180269156860414,
          1.1804159418330546,
          1.1814801328846993,
          1.182380602236091,
          1.1831524331087122,
          1.1831524331087122,
          1.1831524331087122,
          1.1850820102902657,
          1.1850820102902657,
          1.1857929071466276,
          1.1873331836687449,
          1.1873331836687449,
          1.1873331836687449,
          1.1883423303556493,
          1.1883423303556493,
          1.19058487854877,
          1.1908053324389414,
          1.1931862344527904,
          1.1931862344527904,
          1.1953146165560797,
          1.1953146165560797,
          1.1954890741055297,
          1.1954890741055297,
          1.1956946847888101,
          1.1981151193235657,
          1.1998754353488428,
          1.1998754353488428,
          1.2035916580688717,
          1.2059565270725265,
          1.2090461139966562,
          1.2110241035089295,
          1.2120960908320149,
          1.2125618508413554,
          1.2141077776808684,
          1.2165984375889731,
          1.2165984375889731,
          1.2165984375889731,
          1.2165984375889731,
          1.2187268196922623,
          1.2221727716690167,
          1.222759543677442,
          1.2232876384850253,
          1.2246716110842084,
          1.2246716110842084,
          1.2265188626466776,
          1.2318672657212661,
          1.2333214398291035,
          1.2333214398291035,
          1.2348892212891158,
          1.2350817558543805,
          1.2364087633195893,
          1.2378822586218665,
          1.2406992349350436,
          1.2415458671603152,
          1.2442674049317344,
          1.2474039680313185,
          1.2488911315699145,
          1.2488911315699145,
          1.2488911315699145,
          1.2503278827851685,
          1.2503278827851685,
          1.2510281480833592,
          1.2530600654240116,
          1.2556187761492774,
          1.2580200277529885,
          1.262232392854414,
          1.2656885409390335,
          1.2688256599696883,
          1.2698079901712065,
          1.286835046997521,
          1.286835046997521,
          1.2883455117159843,
          1.2883455117159843,
          1.299116858478797,
          1.3035580492376515,
          1.3110024824929352,
          1.3126933012076332,
          1.3135918505817297,
          1.3239043686298102,
          1.3336594532698862,
          1.3995062745904
         ],
         "yaxis": "y"
        }
       ],
       "layout": {
        "legend": {
         "tracegroupgap": 0
        },
        "margin": {
         "t": 60
        },
        "template": {
         "data": {
          "bar": [
           {
            "error_x": {
             "color": "#2a3f5f"
            },
            "error_y": {
             "color": "#2a3f5f"
            },
            "marker": {
             "line": {
              "color": "#E5ECF6",
              "width": 0.5
             }
            },
            "type": "bar"
           }
          ],
          "barpolar": [
           {
            "marker": {
             "line": {
              "color": "#E5ECF6",
              "width": 0.5
             }
            },
            "type": "barpolar"
           }
          ],
          "carpet": [
           {
            "aaxis": {
             "endlinecolor": "#2a3f5f",
             "gridcolor": "white",
             "linecolor": "white",
             "minorgridcolor": "white",
             "startlinecolor": "#2a3f5f"
            },
            "baxis": {
             "endlinecolor": "#2a3f5f",
             "gridcolor": "white",
             "linecolor": "white",
             "minorgridcolor": "white",
             "startlinecolor": "#2a3f5f"
            },
            "type": "carpet"
           }
          ],
          "choropleth": [
           {
            "colorbar": {
             "outlinewidth": 0,
             "ticks": ""
            },
            "type": "choropleth"
           }
          ],
          "contour": [
           {
            "colorbar": {
             "outlinewidth": 0,
             "ticks": ""
            },
            "colorscale": [
             [
              0,
              "#0d0887"
             ],
             [
              0.1111111111111111,
              "#46039f"
             ],
             [
              0.2222222222222222,
              "#7201a8"
             ],
             [
              0.3333333333333333,
              "#9c179e"
             ],
             [
              0.4444444444444444,
              "#bd3786"
             ],
             [
              0.5555555555555556,
              "#d8576b"
             ],
             [
              0.6666666666666666,
              "#ed7953"
             ],
             [
              0.7777777777777778,
              "#fb9f3a"
             ],
             [
              0.8888888888888888,
              "#fdca26"
             ],
             [
              1,
              "#f0f921"
             ]
            ],
            "type": "contour"
           }
          ],
          "contourcarpet": [
           {
            "colorbar": {
             "outlinewidth": 0,
             "ticks": ""
            },
            "type": "contourcarpet"
           }
          ],
          "heatmap": [
           {
            "colorbar": {
             "outlinewidth": 0,
             "ticks": ""
            },
            "colorscale": [
             [
              0,
              "#0d0887"
             ],
             [
              0.1111111111111111,
              "#46039f"
             ],
             [
              0.2222222222222222,
              "#7201a8"
             ],
             [
              0.3333333333333333,
              "#9c179e"
             ],
             [
              0.4444444444444444,
              "#bd3786"
             ],
             [
              0.5555555555555556,
              "#d8576b"
             ],
             [
              0.6666666666666666,
              "#ed7953"
             ],
             [
              0.7777777777777778,
              "#fb9f3a"
             ],
             [
              0.8888888888888888,
              "#fdca26"
             ],
             [
              1,
              "#f0f921"
             ]
            ],
            "type": "heatmap"
           }
          ],
          "heatmapgl": [
           {
            "colorbar": {
             "outlinewidth": 0,
             "ticks": ""
            },
            "colorscale": [
             [
              0,
              "#0d0887"
             ],
             [
              0.1111111111111111,
              "#46039f"
             ],
             [
              0.2222222222222222,
              "#7201a8"
             ],
             [
              0.3333333333333333,
              "#9c179e"
             ],
             [
              0.4444444444444444,
              "#bd3786"
             ],
             [
              0.5555555555555556,
              "#d8576b"
             ],
             [
              0.6666666666666666,
              "#ed7953"
             ],
             [
              0.7777777777777778,
              "#fb9f3a"
             ],
             [
              0.8888888888888888,
              "#fdca26"
             ],
             [
              1,
              "#f0f921"
             ]
            ],
            "type": "heatmapgl"
           }
          ],
          "histogram": [
           {
            "marker": {
             "colorbar": {
              "outlinewidth": 0,
              "ticks": ""
             }
            },
            "type": "histogram"
           }
          ],
          "histogram2d": [
           {
            "colorbar": {
             "outlinewidth": 0,
             "ticks": ""
            },
            "colorscale": [
             [
              0,
              "#0d0887"
             ],
             [
              0.1111111111111111,
              "#46039f"
             ],
             [
              0.2222222222222222,
              "#7201a8"
             ],
             [
              0.3333333333333333,
              "#9c179e"
             ],
             [
              0.4444444444444444,
              "#bd3786"
             ],
             [
              0.5555555555555556,
              "#d8576b"
             ],
             [
              0.6666666666666666,
              "#ed7953"
             ],
             [
              0.7777777777777778,
              "#fb9f3a"
             ],
             [
              0.8888888888888888,
              "#fdca26"
             ],
             [
              1,
              "#f0f921"
             ]
            ],
            "type": "histogram2d"
           }
          ],
          "histogram2dcontour": [
           {
            "colorbar": {
             "outlinewidth": 0,
             "ticks": ""
            },
            "colorscale": [
             [
              0,
              "#0d0887"
             ],
             [
              0.1111111111111111,
              "#46039f"
             ],
             [
              0.2222222222222222,
              "#7201a8"
             ],
             [
              0.3333333333333333,
              "#9c179e"
             ],
             [
              0.4444444444444444,
              "#bd3786"
             ],
             [
              0.5555555555555556,
              "#d8576b"
             ],
             [
              0.6666666666666666,
              "#ed7953"
             ],
             [
              0.7777777777777778,
              "#fb9f3a"
             ],
             [
              0.8888888888888888,
              "#fdca26"
             ],
             [
              1,
              "#f0f921"
             ]
            ],
            "type": "histogram2dcontour"
           }
          ],
          "mesh3d": [
           {
            "colorbar": {
             "outlinewidth": 0,
             "ticks": ""
            },
            "type": "mesh3d"
           }
          ],
          "parcoords": [
           {
            "line": {
             "colorbar": {
              "outlinewidth": 0,
              "ticks": ""
             }
            },
            "type": "parcoords"
           }
          ],
          "pie": [
           {
            "automargin": true,
            "type": "pie"
           }
          ],
          "scatter": [
           {
            "marker": {
             "colorbar": {
              "outlinewidth": 0,
              "ticks": ""
             }
            },
            "type": "scatter"
           }
          ],
          "scatter3d": [
           {
            "line": {
             "colorbar": {
              "outlinewidth": 0,
              "ticks": ""
             }
            },
            "marker": {
             "colorbar": {
              "outlinewidth": 0,
              "ticks": ""
             }
            },
            "type": "scatter3d"
           }
          ],
          "scattercarpet": [
           {
            "marker": {
             "colorbar": {
              "outlinewidth": 0,
              "ticks": ""
             }
            },
            "type": "scattercarpet"
           }
          ],
          "scattergeo": [
           {
            "marker": {
             "colorbar": {
              "outlinewidth": 0,
              "ticks": ""
             }
            },
            "type": "scattergeo"
           }
          ],
          "scattergl": [
           {
            "marker": {
             "colorbar": {
              "outlinewidth": 0,
              "ticks": ""
             }
            },
            "type": "scattergl"
           }
          ],
          "scattermapbox": [
           {
            "marker": {
             "colorbar": {
              "outlinewidth": 0,
              "ticks": ""
             }
            },
            "type": "scattermapbox"
           }
          ],
          "scatterpolar": [
           {
            "marker": {
             "colorbar": {
              "outlinewidth": 0,
              "ticks": ""
             }
            },
            "type": "scatterpolar"
           }
          ],
          "scatterpolargl": [
           {
            "marker": {
             "colorbar": {
              "outlinewidth": 0,
              "ticks": ""
             }
            },
            "type": "scatterpolargl"
           }
          ],
          "scatterternary": [
           {
            "marker": {
             "colorbar": {
              "outlinewidth": 0,
              "ticks": ""
             }
            },
            "type": "scatterternary"
           }
          ],
          "surface": [
           {
            "colorbar": {
             "outlinewidth": 0,
             "ticks": ""
            },
            "colorscale": [
             [
              0,
              "#0d0887"
             ],
             [
              0.1111111111111111,
              "#46039f"
             ],
             [
              0.2222222222222222,
              "#7201a8"
             ],
             [
              0.3333333333333333,
              "#9c179e"
             ],
             [
              0.4444444444444444,
              "#bd3786"
             ],
             [
              0.5555555555555556,
              "#d8576b"
             ],
             [
              0.6666666666666666,
              "#ed7953"
             ],
             [
              0.7777777777777778,
              "#fb9f3a"
             ],
             [
              0.8888888888888888,
              "#fdca26"
             ],
             [
              1,
              "#f0f921"
             ]
            ],
            "type": "surface"
           }
          ],
          "table": [
           {
            "cells": {
             "fill": {
              "color": "#EBF0F8"
             },
             "line": {
              "color": "white"
             }
            },
            "header": {
             "fill": {
              "color": "#C8D4E3"
             },
             "line": {
              "color": "white"
             }
            },
            "type": "table"
           }
          ]
         },
         "layout": {
          "annotationdefaults": {
           "arrowcolor": "#2a3f5f",
           "arrowhead": 0,
           "arrowwidth": 1
          },
          "coloraxis": {
           "colorbar": {
            "outlinewidth": 0,
            "ticks": ""
           }
          },
          "colorscale": {
           "diverging": [
            [
             0,
             "#8e0152"
            ],
            [
             0.1,
             "#c51b7d"
            ],
            [
             0.2,
             "#de77ae"
            ],
            [
             0.3,
             "#f1b6da"
            ],
            [
             0.4,
             "#fde0ef"
            ],
            [
             0.5,
             "#f7f7f7"
            ],
            [
             0.6,
             "#e6f5d0"
            ],
            [
             0.7,
             "#b8e186"
            ],
            [
             0.8,
             "#7fbc41"
            ],
            [
             0.9,
             "#4d9221"
            ],
            [
             1,
             "#276419"
            ]
           ],
           "sequential": [
            [
             0,
             "#0d0887"
            ],
            [
             0.1111111111111111,
             "#46039f"
            ],
            [
             0.2222222222222222,
             "#7201a8"
            ],
            [
             0.3333333333333333,
             "#9c179e"
            ],
            [
             0.4444444444444444,
             "#bd3786"
            ],
            [
             0.5555555555555556,
             "#d8576b"
            ],
            [
             0.6666666666666666,
             "#ed7953"
            ],
            [
             0.7777777777777778,
             "#fb9f3a"
            ],
            [
             0.8888888888888888,
             "#fdca26"
            ],
            [
             1,
             "#f0f921"
            ]
           ],
           "sequentialminus": [
            [
             0,
             "#0d0887"
            ],
            [
             0.1111111111111111,
             "#46039f"
            ],
            [
             0.2222222222222222,
             "#7201a8"
            ],
            [
             0.3333333333333333,
             "#9c179e"
            ],
            [
             0.4444444444444444,
             "#bd3786"
            ],
            [
             0.5555555555555556,
             "#d8576b"
            ],
            [
             0.6666666666666666,
             "#ed7953"
            ],
            [
             0.7777777777777778,
             "#fb9f3a"
            ],
            [
             0.8888888888888888,
             "#fdca26"
            ],
            [
             1,
             "#f0f921"
            ]
           ]
          },
          "colorway": [
           "#636efa",
           "#EF553B",
           "#00cc96",
           "#ab63fa",
           "#FFA15A",
           "#19d3f3",
           "#FF6692",
           "#B6E880",
           "#FF97FF",
           "#FECB52"
          ],
          "font": {
           "color": "#2a3f5f"
          },
          "geo": {
           "bgcolor": "white",
           "lakecolor": "white",
           "landcolor": "#E5ECF6",
           "showlakes": true,
           "showland": true,
           "subunitcolor": "white"
          },
          "hoverlabel": {
           "align": "left"
          },
          "hovermode": "closest",
          "mapbox": {
           "style": "light"
          },
          "paper_bgcolor": "white",
          "plot_bgcolor": "#E5ECF6",
          "polar": {
           "angularaxis": {
            "gridcolor": "white",
            "linecolor": "white",
            "ticks": ""
           },
           "bgcolor": "#E5ECF6",
           "radialaxis": {
            "gridcolor": "white",
            "linecolor": "white",
            "ticks": ""
           }
          },
          "scene": {
           "xaxis": {
            "backgroundcolor": "#E5ECF6",
            "gridcolor": "white",
            "gridwidth": 2,
            "linecolor": "white",
            "showbackground": true,
            "ticks": "",
            "zerolinecolor": "white"
           },
           "yaxis": {
            "backgroundcolor": "#E5ECF6",
            "gridcolor": "white",
            "gridwidth": 2,
            "linecolor": "white",
            "showbackground": true,
            "ticks": "",
            "zerolinecolor": "white"
           },
           "zaxis": {
            "backgroundcolor": "#E5ECF6",
            "gridcolor": "white",
            "gridwidth": 2,
            "linecolor": "white",
            "showbackground": true,
            "ticks": "",
            "zerolinecolor": "white"
           }
          },
          "shapedefaults": {
           "line": {
            "color": "#2a3f5f"
           }
          },
          "ternary": {
           "aaxis": {
            "gridcolor": "white",
            "linecolor": "white",
            "ticks": ""
           },
           "baxis": {
            "gridcolor": "white",
            "linecolor": "white",
            "ticks": ""
           },
           "bgcolor": "#E5ECF6",
           "caxis": {
            "gridcolor": "white",
            "linecolor": "white",
            "ticks": ""
           }
          },
          "title": {
           "x": 0.05
          },
          "xaxis": {
           "automargin": true,
           "gridcolor": "white",
           "linecolor": "white",
           "ticks": "",
           "title": {
            "standoff": 15
           },
           "zerolinecolor": "white",
           "zerolinewidth": 2
          },
          "yaxis": {
           "automargin": true,
           "gridcolor": "white",
           "linecolor": "white",
           "ticks": "",
           "title": {
            "standoff": 15
           },
           "zerolinecolor": "white",
           "zerolinewidth": 2
          }
         }
        },
        "xaxis": {
         "anchor": "y",
         "domain": [
          0,
          1
         ],
         "title": {
          "text": "can/usa_priceTerm"
         }
        },
        "yaxis": {
         "anchor": "x",
         "domain": [
          0,
          1
         ],
         "title": {
          "text": "actual_exr"
         }
        }
       }
      },
      "text/html": [
       "<div>                            <div id=\"0fddf137-7d57-4a55-991a-63e4b0f29184\" class=\"plotly-graph-div\" style=\"height:525px; width:100%;\"></div>            <script type=\"text/javascript\">                require([\"plotly\"], function(Plotly) {                    window.PLOTLYENV=window.PLOTLYENV || {};                                    if (document.getElementById(\"0fddf137-7d57-4a55-991a-63e4b0f29184\")) {                    Plotly.newPlot(                        \"0fddf137-7d57-4a55-991a-63e4b0f29184\",                        [{\"hovertemplate\": \"can/usa_priceTerm=%{x}<br>actual_exr=%{y}<extra></extra>\", \"legendgroup\": \"\", \"marker\": {\"color\": \"#636efa\", \"symbol\": \"circle\"}, \"mode\": \"markers\", \"name\": \"\", \"orientation\": \"v\", \"showlegend\": false, \"type\": \"scatter\", \"x\": [0.6417910447761194, 0.5692307692307692, 0.6756756756756757, 0.7428571428571429, 0.7816091954022989, 0.6666666666666666, 0.6428571428571429, 0.765625, 0.711864406779661, 0.6774193548387096, 0.640625, 0.6666666666666666, 0.7272727272727273, 0.5818181818181818, 0.7076923076923077, 0.6571428571428571, 0.65, 0.8, 0.734375, 0.6989247311827957, 1.0, 0.746031746031746, 0.7377049180327869, 0.7017543859649122, 0.6724137931034483, 0.6071428571428571, 0.7636363636363637, 0.6533333333333333, 0.6865671641791045, 0.7017543859649122, 0.7049180327868853, 0.7857142857142857, 0.6129032258064516, 0.7636363636363637, 0.6363636363636364, 0.68, 0.660377358490566, 0.7551020408163265, 0.6851851851851852, 0.6491228070175439, 0.7121212121212122, 0.6727272727272727, 0.7090909090909091, 0.7254901960784313, 0.74, 0.76, 0.7288135593220338, 0.6730769230769231, 0.6727272727272727, 0.6851851851851852, 0.6323529411764706, 0.6388888888888888, 0.575, 0.6753246753246753, 0.6666666666666666, 0.6825396825396826, 0.6973684210526315, 0.6904761904761905, 0.7012987012987013, 0.6338028169014085, 0.6774193548387096, 0.6666666666666666, 0.6885245901639344, 0.7142857142857143, 0.7333333333333333, 0.6885245901639344, 0.75, 0.7894736842105263, 0.7592592592592593, 0.7017543859649122, 0.75, 0.7142857142857143, 0.7142857142857143, 0.6909090909090909, 0.7592592592592593, 0.8148148148148148, 0.7857142857142857, 0.7678571428571429, 0.7636363636363637, 0.8269230769230769, 0.7916666666666666, 0.8297872340425532, 0.7692307692307693, 0.7692307692307693, 0.6774193548387096, 0.703125, 0.6438356164383562, 0.7012987012987013, 0.7368421052631579, 0.6428571428571429, 0.746268656716418, 0.7857142857142857, 0.734375, 0.6935483870967742, 0.7241379310344828, 0.6779661016949152, 0.6949152542372882, 0.6119402985074627, 0.6470588235294118, 0.746031746031746, 0.671875, 0.6571428571428571, 0.6811594202898551, 0.7096774193548387, 0.7540983606557377, 0.7142857142857143, 0.7241379310344828, 0.6842105263157895, 0.7321428571428571, 0.6896551724137931, 0.6949152542372882, 0.7457627118644068, 0.7666666666666667, 0.676923076923077, 0.7777777777777778, 0.7966101694915254, 0.7090909090909091, 0.7358490566037735, 0.7222222222222222, 0.7647058823529411, 0.7454545454545455, 0.7678571428571429, 0.8, 0.8571428571428571, 0.8035714285714286, 0.7931034482758621, 0.8032786885245902, 0.8727272727272727, 0.7884615384615384, 0.8363636363636363, 0.8571428571428571, 0.9701492537313433, 0.9861111111111112, 0.967741935483871, 0.9032258064516129, 0.8983050847457628, 0.8688524590163934, 0.8412698412698413, 0.8333333333333334, 0.9333333333333333, 0.8615384615384616, 0.8793103448275862, 0.8771929824561403, 0.9354838709677419, 0.9571428571428572, 0.9714285714285714, 0.9090909090909091, 0.9076923076923077, 0.8636363636363636, 0.8428571428571429, 0.7916666666666666, 0.9333333333333333, 0.8813559322033898, 0.8275862068965517, 0.8448275862068966, 0.8333333333333334, 0.8095238095238095, 0.7619047619047619, 0.8095238095238095, 0.859375, 0.7846153846153846, 0.7681159420289855, 0.7916666666666666, 0.8823529411764706, 0.8888888888888888, 0.7796610169491526, 0.8793103448275862, 0.7580645161290323, 0.8225806451612904, 0.765625, 0.8253968253968254, 0.8923076923076924, 0.8676470588235294, 0.803030303030303, 0.855072463768116, 0.9354838709677419, 0.8448275862068966, 0.8596491228070176, 0.8793103448275862, 0.847457627118644, 0.7833333333333333, 0.8070175438596491, 0.8333333333333334, 0.9508196721311475, 0.8813559322033898, 0.803030303030303, 0.8181818181818182, 0.8852459016393442, 0.8421052631578947, 0.7962962962962963, 0.7884615384615384, 0.7692307692307693, 0.7818181818181819, 0.7931034482758621, 1.09375, 0.8032786885245902, 0.8333333333333334], \"xaxis\": \"x\", \"y\": [1.295755, 1.3298947368421052, 1.328578260869565, 1.341972727272727, 1.37886, 1.3578409090909092, 1.322504761904762, 1.3126772727272729, 1.288095238095238, 1.246935, 1.19677, 1.2188826086956521, 1.224835, 1.2400526315789473, 1.2160260869565216, 1.2359, 1.2555285714285713, 1.2401681818181818, 1.222855, 1.2042826086956522, 1.1776809523809524, 1.177415, 1.181545, 1.1614809523809524, 1.157165, 1.1488947368421052, 1.157308695652174, 1.144105, 1.1099909090909093, 1.113727272727273, 1.129445, 1.118213043478261, 1.11612, 1.1285380952380952, 1.1358809523809523, 1.153235, 1.1762619047619047, 1.1709894736842104, 1.1681590909090909, 1.1349857142857145, 1.0950863636363637, 1.065104761904762, 1.0501857142857145, 1.0578521739130435, 1.026745, 0.9754130434782609, 0.9672380952380952, 1.00207, 1.0099428571428573, 0.998555, 1.0029428571428571, 1.0137181818181817, 0.9993047619047618, 1.0166238095238094, 1.0129636363636365, 1.0534571428571429, 1.058204761904762, 1.1846954545454544, 1.2170944444444445, 1.2336954545454544, 1.22482, 1.2452, 1.2645181818181819, 1.2241818181818183, 1.152785, 1.1263545454545456, 1.1228608695652174, 1.0872380952380951, 1.0816380952380953, 1.0546761904761903, 1.0593, 1.0536909090909092, 1.0438105263157895, 1.0572105263157896, 1.0229, 1.0052090909090907, 1.04028, 1.0376227272727272, 1.0422285714285715, 1.0403954545454543, 1.032957142857143, 1.0179, 1.0129, 1.0080619047619048, 0.993945, 0.9876368421052631, 0.9765608695652174, 0.9579523809523808, 0.9680428571428572, 0.9766454545454544, 0.955315, 0.981708695652174, 1.0025, 1.0198, 1.024755, 1.0235238095238095, 1.012985, 0.996745, 0.9937727272727273, 0.9928238095238094, 1.009731818181818, 1.028, 1.0142, 0.9923826086956518, 0.9783, 0.9871545454545454, 0.99697, 0.98982, 0.9920571428571427, 1.0097842105263155, 1.0244238095238094, 1.0186727272727272, 1.0195590909090908, 1.0314, 1.0402136363636365, 1.0407181818181819, 1.034235, 1.036281818181818, 1.048642105263158, 1.0639190476190477, 1.0940095238095238, 1.105442105263158, 1.1106809523809524, 1.0992090909090908, 1.0893857142857144, 1.0830380952380951, 1.0739181818181818, 1.0926333333333331, 1.101052380952381, 1.1211545454545455, 1.1325388888888888, 1.1531619047619048, 1.21219, 1.2499052631578949, 1.2618318181818182, 1.233681818181818, 1.21764, 1.2364954545454545, 1.2863136363636365, 1.3147238095238096, 1.3265809523809524, 1.3072238095238096, 1.3278526315789474, 1.3712545454545455, 1.4208105263157895, 1.37969, 1.3226391304347827, 1.2818142857142856, 1.2945285714285715, 1.2894045454545455, 1.305235, 1.299782608695652, 1.3107761904761903, 1.325095, 1.343415, 1.3339190476190477, 1.3183052631578949, 1.3109157894736843, 1.3387, 1.343705, 1.3605727272727273, 1.3294863636363636, 1.26904, 1.2607695652173911, 1.227875, 1.2606904761904763, 1.277335, 1.27687, 1.242904761904762, 1.2588210526315788, 1.2932545454545457, 1.2731619047619047, 1.2866272727272727, 1.312452380952381, 1.3133428571428571, 1.3042478260869563, 1.3034, 1.3004409090909093, 1.32048, 1.343611111111111, 1.330045, 1.3208722222222222, 1.337052380952381, 1.3378136363636364, 1.3459772727272727, 1.32887, 1.3105227272727271, 1.3273136363636364, 1.32405, 1.3189227272727273, 1.323657894736842, 1.316895238095238, 1.3089095238095239, 1.3286368421052632, 1.3960227272727272, 1.4047954545454544, 1.3972], \"yaxis\": \"y\"}, {\"hovertemplate\": \"<b>OLS trendline</b><br>actual_exr = 0.702366 * can/usa_priceTerm + 0.631293<br>R<sup>2</sup>=0.239333<br><br>can/usa_priceTerm=%{x}<br>actual_exr=%{y} <b>(trend)</b><extra></extra>\", \"legendgroup\": \"\", \"marker\": {\"color\": \"#636efa\", \"symbol\": \"circle\"}, \"mode\": \"lines\", \"name\": \"\", \"showlegend\": false, \"type\": \"scatter\", \"x\": [0.5692307692307692, 0.575, 0.5818181818181818, 0.6071428571428571, 0.6119402985074627, 0.6129032258064516, 0.6323529411764706, 0.6338028169014085, 0.6363636363636364, 0.6388888888888888, 0.640625, 0.6417910447761194, 0.6428571428571429, 0.6428571428571429, 0.6438356164383562, 0.6470588235294118, 0.6491228070175439, 0.65, 0.6533333333333333, 0.6571428571428571, 0.6571428571428571, 0.660377358490566, 0.6666666666666666, 0.6666666666666666, 0.6666666666666666, 0.6666666666666666, 0.671875, 0.6724137931034483, 0.6727272727272727, 0.6727272727272727, 0.6730769230769231, 0.6753246753246753, 0.6756756756756757, 0.676923076923077, 0.6774193548387096, 0.6774193548387096, 0.6774193548387096, 0.6779661016949152, 0.68, 0.6811594202898551, 0.6825396825396826, 0.6842105263157895, 0.6851851851851852, 0.6851851851851852, 0.6865671641791045, 0.6885245901639344, 0.6885245901639344, 0.6896551724137931, 0.6904761904761905, 0.6909090909090909, 0.6935483870967742, 0.6949152542372882, 0.6949152542372882, 0.6973684210526315, 0.6989247311827957, 0.7012987012987013, 0.7012987012987013, 0.7017543859649122, 0.7017543859649122, 0.7017543859649122, 0.703125, 0.7049180327868853, 0.7076923076923077, 0.7090909090909091, 0.7090909090909091, 0.7096774193548387, 0.711864406779661, 0.7121212121212122, 0.7142857142857143, 0.7142857142857143, 0.7142857142857143, 0.7142857142857143, 0.7222222222222222, 0.7241379310344828, 0.7241379310344828, 0.7254901960784313, 0.7272727272727273, 0.7288135593220338, 0.7321428571428571, 0.7333333333333333, 0.734375, 0.734375, 0.7358490566037735, 0.7368421052631579, 0.7377049180327869, 0.74, 0.7428571428571429, 0.7454545454545455, 0.7457627118644068, 0.746031746031746, 0.746031746031746, 0.746268656716418, 0.75, 0.75, 0.7540983606557377, 0.7551020408163265, 0.7580645161290323, 0.7592592592592593, 0.7592592592592593, 0.76, 0.7619047619047619, 0.7636363636363637, 0.7636363636363637, 0.7636363636363637, 0.7647058823529411, 0.765625, 0.765625, 0.7666666666666667, 0.7678571428571429, 0.7678571428571429, 0.7681159420289855, 0.7692307692307693, 0.7692307692307693, 0.7692307692307693, 0.7777777777777778, 0.7796610169491526, 0.7816091954022989, 0.7818181818181819, 0.7833333333333333, 0.7846153846153846, 0.7857142857142857, 0.7857142857142857, 0.7857142857142857, 0.7884615384615384, 0.7884615384615384, 0.7894736842105263, 0.7916666666666666, 0.7916666666666666, 0.7916666666666666, 0.7931034482758621, 0.7931034482758621, 0.7962962962962963, 0.7966101694915254, 0.8, 0.8, 0.803030303030303, 0.803030303030303, 0.8032786885245902, 0.8032786885245902, 0.8035714285714286, 0.8070175438596491, 0.8095238095238095, 0.8095238095238095, 0.8148148148148148, 0.8181818181818182, 0.8225806451612904, 0.8253968253968254, 0.8269230769230769, 0.8275862068965517, 0.8297872340425532, 0.8333333333333334, 0.8333333333333334, 0.8333333333333334, 0.8333333333333334, 0.8363636363636363, 0.8412698412698413, 0.8421052631578947, 0.8428571428571429, 0.8448275862068966, 0.8448275862068966, 0.847457627118644, 0.855072463768116, 0.8571428571428571, 0.8571428571428571, 0.859375, 0.8596491228070176, 0.8615384615384616, 0.8636363636363636, 0.8676470588235294, 0.8688524590163934, 0.8727272727272727, 0.8771929824561403, 0.8793103448275862, 0.8793103448275862, 0.8793103448275862, 0.8813559322033898, 0.8813559322033898, 0.8823529411764706, 0.8852459016393442, 0.8888888888888888, 0.8923076923076924, 0.8983050847457628, 0.9032258064516129, 0.9076923076923077, 0.9090909090909091, 0.9333333333333333, 0.9333333333333333, 0.9354838709677419, 0.9354838709677419, 0.9508196721311475, 0.9571428571428572, 0.967741935483871, 0.9701492537313433, 0.9714285714285714, 0.9861111111111112, 1.0, 1.09375], \"xaxis\": \"x\", \"y\": [1.0311017512022955, 1.0351538632835577, 1.0399427230159588, 1.0577299163077338, 1.061099476460596, 1.061775803946475, 1.0754366245619897, 1.0764549681118236, 1.0782536008751666, 1.0800272526279078, 1.0812466382079173, 1.0820656285228492, 1.0828144196679297, 1.0828144196679297, 1.0835016663353323, 1.0857655377103055, 1.0872152097311218, 1.0878313203399688, 1.090172540653587, 1.0928482210120078, 1.0928482210120078, 1.0951200250899125, 1.09953742190806, 1.09953742190806, 1.09953742190806, 1.09953742190806, 1.1031955786480885, 1.1035740086556778, 1.1037941861146388, 1.1037941861146388, 1.1040397686650183, 1.1056185136317438, 1.1058650443772986, 1.1067411767191933, 1.107089745500377, 1.107089745500377, 1.107089745500377, 1.1074737619542236, 1.1089023031625331, 1.109716640662922, 1.110686090068147, 1.1118596340849982, 1.1125442014281615, 1.1125442014281615, 1.1135148566162287, 1.1148896862596551, 1.1148896862596551, 1.1156837688985308, 1.1162604241481904, 1.1165644787343747, 1.1184182308888526, 1.119378272023469, 1.119378272023469, 1.1211012932177018, 1.122194392685011, 1.1238617888027953, 1.1238617888027953, 1.1241818462619364, 1.1241818462619364, 1.1241818462619364, 1.1251445190882596, 1.1264038845233515, 1.1283524411525925, 1.1293347713541106, 1.1293347713541106, 1.129746716277328, 1.1312827820927145, 1.1314631534574, 1.132983426388321, 1.132983426388321, 1.132983426388321, 1.132983426388321, 1.1385577604683643, 1.139903289384237, 1.139903289384237, 1.1408530745013234, 1.1421050639738466, 1.1431872921619597, 1.1455256780684189, 1.1463618281804253, 1.147093459528431, 1.147093459528431, 1.1481287869076842, 1.148826270615813, 1.1494322810507445, 1.1510442688076616, 1.1530510290764775, 1.1548753565935828, 1.1550918022312051, 1.155280762708495, 1.155280762708495, 1.155447160740735, 1.1580679297485166, 1.1580679297485166, 1.1609464793144406, 1.1616514302285443, 1.1637321724427543, 1.1645713195085672, 1.1645713195085672, 1.1650915906893715, 1.1664294308685816, 1.1676456492133185, 1.1676456492133185, 1.1676456492133185, 1.1683968428968323, 1.1690423999686022, 1.1690423999686022, 1.1697740313166078, 1.1706101814286143, 1.1706101814286143, 1.170791953192094, 1.1715749700193911, 1.1715749700193911, 1.1715749700193911, 1.1775780990286688, 1.178900822369696, 1.180269156860414, 1.1804159418330546, 1.1814801328846993, 1.182380602236091, 1.1831524331087122, 1.1831524331087122, 1.1831524331087122, 1.1850820102902657, 1.1850820102902657, 1.1857929071466276, 1.1873331836687449, 1.1873331836687449, 1.1873331836687449, 1.1883423303556493, 1.1883423303556493, 1.19058487854877, 1.1908053324389414, 1.1931862344527904, 1.1931862344527904, 1.1953146165560797, 1.1953146165560797, 1.1954890741055297, 1.1954890741055297, 1.1956946847888101, 1.1981151193235657, 1.1998754353488428, 1.1998754353488428, 1.2035916580688717, 1.2059565270725265, 1.2090461139966562, 1.2110241035089295, 1.2120960908320149, 1.2125618508413554, 1.2141077776808684, 1.2165984375889731, 1.2165984375889731, 1.2165984375889731, 1.2165984375889731, 1.2187268196922623, 1.2221727716690167, 1.222759543677442, 1.2232876384850253, 1.2246716110842084, 1.2246716110842084, 1.2265188626466776, 1.2318672657212661, 1.2333214398291035, 1.2333214398291035, 1.2348892212891158, 1.2350817558543805, 1.2364087633195893, 1.2378822586218665, 1.2406992349350436, 1.2415458671603152, 1.2442674049317344, 1.2474039680313185, 1.2488911315699145, 1.2488911315699145, 1.2488911315699145, 1.2503278827851685, 1.2503278827851685, 1.2510281480833592, 1.2530600654240116, 1.2556187761492774, 1.2580200277529885, 1.262232392854414, 1.2656885409390335, 1.2688256599696883, 1.2698079901712065, 1.286835046997521, 1.286835046997521, 1.2883455117159843, 1.2883455117159843, 1.299116858478797, 1.3035580492376515, 1.3110024824929352, 1.3126933012076332, 1.3135918505817297, 1.3239043686298102, 1.3336594532698862, 1.3995062745904], \"yaxis\": \"y\"}],                        {\"legend\": {\"tracegroupgap\": 0}, \"margin\": {\"t\": 60}, \"template\": {\"data\": {\"bar\": [{\"error_x\": {\"color\": \"#2a3f5f\"}, \"error_y\": {\"color\": \"#2a3f5f\"}, \"marker\": {\"line\": {\"color\": \"#E5ECF6\", \"width\": 0.5}}, \"type\": \"bar\"}], \"barpolar\": [{\"marker\": {\"line\": {\"color\": \"#E5ECF6\", \"width\": 0.5}}, \"type\": \"barpolar\"}], \"carpet\": [{\"aaxis\": {\"endlinecolor\": \"#2a3f5f\", \"gridcolor\": \"white\", \"linecolor\": \"white\", \"minorgridcolor\": \"white\", \"startlinecolor\": \"#2a3f5f\"}, \"baxis\": {\"endlinecolor\": \"#2a3f5f\", \"gridcolor\": \"white\", \"linecolor\": \"white\", \"minorgridcolor\": \"white\", \"startlinecolor\": \"#2a3f5f\"}, \"type\": \"carpet\"}], \"choropleth\": [{\"colorbar\": {\"outlinewidth\": 0, \"ticks\": \"\"}, \"type\": \"choropleth\"}], \"contour\": [{\"colorbar\": {\"outlinewidth\": 0, \"ticks\": \"\"}, \"colorscale\": [[0.0, \"#0d0887\"], [0.1111111111111111, \"#46039f\"], [0.2222222222222222, \"#7201a8\"], [0.3333333333333333, \"#9c179e\"], [0.4444444444444444, \"#bd3786\"], [0.5555555555555556, \"#d8576b\"], [0.6666666666666666, \"#ed7953\"], [0.7777777777777778, \"#fb9f3a\"], [0.8888888888888888, \"#fdca26\"], [1.0, \"#f0f921\"]], \"type\": \"contour\"}], \"contourcarpet\": [{\"colorbar\": {\"outlinewidth\": 0, \"ticks\": \"\"}, \"type\": \"contourcarpet\"}], \"heatmap\": [{\"colorbar\": {\"outlinewidth\": 0, \"ticks\": \"\"}, \"colorscale\": [[0.0, \"#0d0887\"], [0.1111111111111111, \"#46039f\"], [0.2222222222222222, \"#7201a8\"], [0.3333333333333333, \"#9c179e\"], [0.4444444444444444, \"#bd3786\"], [0.5555555555555556, \"#d8576b\"], [0.6666666666666666, \"#ed7953\"], [0.7777777777777778, \"#fb9f3a\"], [0.8888888888888888, \"#fdca26\"], [1.0, \"#f0f921\"]], \"type\": \"heatmap\"}], \"heatmapgl\": [{\"colorbar\": {\"outlinewidth\": 0, \"ticks\": \"\"}, \"colorscale\": [[0.0, \"#0d0887\"], [0.1111111111111111, \"#46039f\"], [0.2222222222222222, \"#7201a8\"], [0.3333333333333333, \"#9c179e\"], [0.4444444444444444, \"#bd3786\"], [0.5555555555555556, \"#d8576b\"], [0.6666666666666666, \"#ed7953\"], [0.7777777777777778, \"#fb9f3a\"], [0.8888888888888888, \"#fdca26\"], [1.0, \"#f0f921\"]], \"type\": \"heatmapgl\"}], \"histogram\": [{\"marker\": {\"colorbar\": {\"outlinewidth\": 0, \"ticks\": \"\"}}, \"type\": \"histogram\"}], \"histogram2d\": [{\"colorbar\": {\"outlinewidth\": 0, \"ticks\": \"\"}, \"colorscale\": [[0.0, \"#0d0887\"], [0.1111111111111111, \"#46039f\"], [0.2222222222222222, \"#7201a8\"], [0.3333333333333333, \"#9c179e\"], [0.4444444444444444, \"#bd3786\"], [0.5555555555555556, \"#d8576b\"], [0.6666666666666666, \"#ed7953\"], [0.7777777777777778, \"#fb9f3a\"], [0.8888888888888888, \"#fdca26\"], [1.0, \"#f0f921\"]], \"type\": \"histogram2d\"}], \"histogram2dcontour\": [{\"colorbar\": {\"outlinewidth\": 0, \"ticks\": \"\"}, \"colorscale\": [[0.0, \"#0d0887\"], [0.1111111111111111, \"#46039f\"], [0.2222222222222222, \"#7201a8\"], [0.3333333333333333, \"#9c179e\"], [0.4444444444444444, \"#bd3786\"], [0.5555555555555556, \"#d8576b\"], [0.6666666666666666, \"#ed7953\"], [0.7777777777777778, \"#fb9f3a\"], [0.8888888888888888, \"#fdca26\"], [1.0, \"#f0f921\"]], \"type\": \"histogram2dcontour\"}], \"mesh3d\": [{\"colorbar\": {\"outlinewidth\": 0, \"ticks\": \"\"}, \"type\": \"mesh3d\"}], \"parcoords\": [{\"line\": {\"colorbar\": {\"outlinewidth\": 0, \"ticks\": \"\"}}, \"type\": \"parcoords\"}], \"pie\": [{\"automargin\": true, \"type\": \"pie\"}], \"scatter\": [{\"marker\": {\"colorbar\": {\"outlinewidth\": 0, \"ticks\": \"\"}}, \"type\": \"scatter\"}], \"scatter3d\": [{\"line\": {\"colorbar\": {\"outlinewidth\": 0, \"ticks\": \"\"}}, \"marker\": {\"colorbar\": {\"outlinewidth\": 0, \"ticks\": \"\"}}, \"type\": \"scatter3d\"}], \"scattercarpet\": [{\"marker\": {\"colorbar\": {\"outlinewidth\": 0, \"ticks\": \"\"}}, \"type\": \"scattercarpet\"}], \"scattergeo\": [{\"marker\": {\"colorbar\": {\"outlinewidth\": 0, \"ticks\": \"\"}}, \"type\": \"scattergeo\"}], \"scattergl\": [{\"marker\": {\"colorbar\": {\"outlinewidth\": 0, \"ticks\": \"\"}}, \"type\": \"scattergl\"}], \"scattermapbox\": [{\"marker\": {\"colorbar\": {\"outlinewidth\": 0, \"ticks\": \"\"}}, \"type\": \"scattermapbox\"}], \"scatterpolar\": [{\"marker\": {\"colorbar\": {\"outlinewidth\": 0, \"ticks\": \"\"}}, \"type\": \"scatterpolar\"}], \"scatterpolargl\": [{\"marker\": {\"colorbar\": {\"outlinewidth\": 0, \"ticks\": \"\"}}, \"type\": \"scatterpolargl\"}], \"scatterternary\": [{\"marker\": {\"colorbar\": {\"outlinewidth\": 0, \"ticks\": \"\"}}, \"type\": \"scatterternary\"}], \"surface\": [{\"colorbar\": {\"outlinewidth\": 0, \"ticks\": \"\"}, \"colorscale\": [[0.0, \"#0d0887\"], [0.1111111111111111, \"#46039f\"], [0.2222222222222222, \"#7201a8\"], [0.3333333333333333, \"#9c179e\"], [0.4444444444444444, \"#bd3786\"], [0.5555555555555556, \"#d8576b\"], [0.6666666666666666, \"#ed7953\"], [0.7777777777777778, \"#fb9f3a\"], [0.8888888888888888, \"#fdca26\"], [1.0, \"#f0f921\"]], \"type\": \"surface\"}], \"table\": [{\"cells\": {\"fill\": {\"color\": \"#EBF0F8\"}, \"line\": {\"color\": \"white\"}}, \"header\": {\"fill\": {\"color\": \"#C8D4E3\"}, \"line\": {\"color\": \"white\"}}, \"type\": \"table\"}]}, \"layout\": {\"annotationdefaults\": {\"arrowcolor\": \"#2a3f5f\", \"arrowhead\": 0, \"arrowwidth\": 1}, \"coloraxis\": {\"colorbar\": {\"outlinewidth\": 0, \"ticks\": \"\"}}, \"colorscale\": {\"diverging\": [[0, \"#8e0152\"], [0.1, \"#c51b7d\"], [0.2, \"#de77ae\"], [0.3, \"#f1b6da\"], [0.4, \"#fde0ef\"], [0.5, \"#f7f7f7\"], [0.6, \"#e6f5d0\"], [0.7, \"#b8e186\"], [0.8, \"#7fbc41\"], [0.9, \"#4d9221\"], [1, \"#276419\"]], \"sequential\": [[0.0, \"#0d0887\"], [0.1111111111111111, \"#46039f\"], [0.2222222222222222, \"#7201a8\"], [0.3333333333333333, \"#9c179e\"], [0.4444444444444444, \"#bd3786\"], [0.5555555555555556, \"#d8576b\"], [0.6666666666666666, \"#ed7953\"], [0.7777777777777778, \"#fb9f3a\"], [0.8888888888888888, \"#fdca26\"], [1.0, \"#f0f921\"]], \"sequentialminus\": [[0.0, \"#0d0887\"], [0.1111111111111111, \"#46039f\"], [0.2222222222222222, \"#7201a8\"], [0.3333333333333333, \"#9c179e\"], [0.4444444444444444, \"#bd3786\"], [0.5555555555555556, \"#d8576b\"], [0.6666666666666666, \"#ed7953\"], [0.7777777777777778, \"#fb9f3a\"], [0.8888888888888888, \"#fdca26\"], [1.0, \"#f0f921\"]]}, \"colorway\": [\"#636efa\", \"#EF553B\", \"#00cc96\", \"#ab63fa\", \"#FFA15A\", \"#19d3f3\", \"#FF6692\", \"#B6E880\", \"#FF97FF\", \"#FECB52\"], \"font\": {\"color\": \"#2a3f5f\"}, \"geo\": {\"bgcolor\": \"white\", \"lakecolor\": \"white\", \"landcolor\": \"#E5ECF6\", \"showlakes\": true, \"showland\": true, \"subunitcolor\": \"white\"}, \"hoverlabel\": {\"align\": \"left\"}, \"hovermode\": \"closest\", \"mapbox\": {\"style\": \"light\"}, \"paper_bgcolor\": \"white\", \"plot_bgcolor\": \"#E5ECF6\", \"polar\": {\"angularaxis\": {\"gridcolor\": \"white\", \"linecolor\": \"white\", \"ticks\": \"\"}, \"bgcolor\": \"#E5ECF6\", \"radialaxis\": {\"gridcolor\": \"white\", \"linecolor\": \"white\", \"ticks\": \"\"}}, \"scene\": {\"xaxis\": {\"backgroundcolor\": \"#E5ECF6\", \"gridcolor\": \"white\", \"gridwidth\": 2, \"linecolor\": \"white\", \"showbackground\": true, \"ticks\": \"\", \"zerolinecolor\": \"white\"}, \"yaxis\": {\"backgroundcolor\": \"#E5ECF6\", \"gridcolor\": \"white\", \"gridwidth\": 2, \"linecolor\": \"white\", \"showbackground\": true, \"ticks\": \"\", \"zerolinecolor\": \"white\"}, \"zaxis\": {\"backgroundcolor\": \"#E5ECF6\", \"gridcolor\": \"white\", \"gridwidth\": 2, \"linecolor\": \"white\", \"showbackground\": true, \"ticks\": \"\", \"zerolinecolor\": \"white\"}}, \"shapedefaults\": {\"line\": {\"color\": \"#2a3f5f\"}}, \"ternary\": {\"aaxis\": {\"gridcolor\": \"white\", \"linecolor\": \"white\", \"ticks\": \"\"}, \"baxis\": {\"gridcolor\": \"white\", \"linecolor\": \"white\", \"ticks\": \"\"}, \"bgcolor\": \"#E5ECF6\", \"caxis\": {\"gridcolor\": \"white\", \"linecolor\": \"white\", \"ticks\": \"\"}}, \"title\": {\"x\": 0.05}, \"xaxis\": {\"automargin\": true, \"gridcolor\": \"white\", \"linecolor\": \"white\", \"ticks\": \"\", \"title\": {\"standoff\": 15}, \"zerolinecolor\": \"white\", \"zerolinewidth\": 2}, \"yaxis\": {\"automargin\": true, \"gridcolor\": \"white\", \"linecolor\": \"white\", \"ticks\": \"\", \"title\": {\"standoff\": 15}, \"zerolinecolor\": \"white\", \"zerolinewidth\": 2}}}, \"xaxis\": {\"anchor\": \"y\", \"domain\": [0.0, 1.0], \"title\": {\"text\": \"can/usa_priceTerm\"}}, \"yaxis\": {\"anchor\": \"x\", \"domain\": [0.0, 1.0], \"title\": {\"text\": \"actual_exr\"}}},                        {\"responsive\": true}                    ).then(function(){\n",
       "                            \n",
       "var gd = document.getElementById('0fddf137-7d57-4a55-991a-63e4b0f29184');\n",
       "var x = new MutationObserver(function (mutations, observer) {{\n",
       "        var display = window.getComputedStyle(gd).display;\n",
       "        if (!display || display === 'none') {{\n",
       "            console.log([gd, 'removed!']);\n",
       "            Plotly.purge(gd);\n",
       "            observer.disconnect();\n",
       "        }}\n",
       "}});\n",
       "\n",
       "// Listen for the removal of the full notebook cells\n",
       "var notebookContainer = gd.closest('#notebook-container');\n",
       "if (notebookContainer) {{\n",
       "    x.observe(notebookContainer, {childList: true});\n",
       "}}\n",
       "\n",
       "// Listen for the clearing of the current output cell\n",
       "var outputEl = gd.closest('.output');\n",
       "if (outputEl) {{\n",
       "    x.observe(outputEl, {childList: true});\n",
       "}}\n",
       "\n",
       "                        })                };                });            </script>        </div>"
      ]
     },
     "metadata": {},
     "output_type": "display_data"
    }
   ],
   "source": [
    "px.scatter(df, x='can/usa_priceTerm', y='actual_exr', trendline='ols')"
   ]
  },
  {
   "cell_type": "markdown",
   "metadata": {},
   "source": [
    "<h2> Error Analysis </h2>"
   ]
  },
  {
   "cell_type": "code",
   "execution_count": 14,
   "metadata": {},
   "outputs": [],
   "source": [
    "df['MSE_macro'] = (df['actual_exr'] - df['macro_prediction'])**2\n",
    "df['MSE_gt'] = (df['actual_exr'] - df['google_trends_prediction'])**2"
   ]
  },
  {
   "cell_type": "code",
   "execution_count": 15,
   "metadata": {},
   "outputs": [],
   "source": [
    "error = list()"
   ]
  },
  {
   "cell_type": "code",
   "execution_count": 16,
   "metadata": {},
   "outputs": [],
   "source": [
    "# structural model MSE\n",
    "error.append(df['MSE_macro'].describe()['mean'])\n",
    "error.append(df['MSE_gt'].describe()['mean'])"
   ]
  },
  {
   "cell_type": "code",
   "execution_count": null,
   "metadata": {},
   "outputs": [],
   "source": []
  },
  {
   "cell_type": "code",
   "execution_count": 17,
   "metadata": {},
   "outputs": [
    {
     "data": {
      "text/html": [
       "<div>\n",
       "<style scoped>\n",
       "    .dataframe tbody tr th:only-of-type {\n",
       "        vertical-align: middle;\n",
       "    }\n",
       "\n",
       "    .dataframe tbody tr th {\n",
       "        vertical-align: top;\n",
       "    }\n",
       "\n",
       "    .dataframe thead th {\n",
       "        text-align: right;\n",
       "    }\n",
       "</style>\n",
       "<table border=\"1\" class=\"dataframe\">\n",
       "  <thead>\n",
       "    <tr style=\"text-align: right;\">\n",
       "      <th></th>\n",
       "      <th>Mean Square Prediction Error</th>\n",
       "    </tr>\n",
       "  </thead>\n",
       "  <tbody>\n",
       "    <tr>\n",
       "      <th>PPP Model</th>\n",
       "      <td>0.003147</td>\n",
       "    </tr>\n",
       "    <tr>\n",
       "      <th>Google Trends Model</th>\n",
       "      <td>0.004552</td>\n",
       "    </tr>\n",
       "  </tbody>\n",
       "</table>\n",
       "</div>"
      ],
      "text/plain": [
       "                     Mean Square Prediction Error\n",
       "PPP Model                                0.003147\n",
       "Google Trends Model                      0.004552"
      ]
     },
     "execution_count": 17,
     "metadata": {},
     "output_type": "execute_result"
    }
   ],
   "source": [
    "pd.DataFrame(error,['PPP Model','Google Trends Model'],columns=['Mean Square Prediction Error'])"
   ]
  },
  {
   "cell_type": "code",
   "execution_count": null,
   "metadata": {},
   "outputs": [],
   "source": []
  }
 ],
 "metadata": {
  "kernelspec": {
   "display_name": "Python 3",
   "language": "python",
   "name": "python3"
  },
  "language_info": {
   "codemirror_mode": {
    "name": "ipython",
    "version": 3
   },
   "file_extension": ".py",
   "mimetype": "text/x-python",
   "name": "python",
   "nbconvert_exporter": "python",
   "pygments_lexer": "ipython3",
   "version": "3.8.5"
  }
 },
 "nbformat": 4,
 "nbformat_minor": 4
}
